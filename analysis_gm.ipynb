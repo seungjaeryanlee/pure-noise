{
 "cells": [
  {
   "cell_type": "markdown",
   "id": "cdaa2e28-d165-493e-8863-9ac860ed4cc2",
   "metadata": {},
   "source": [
    "# Compute GM"
   ]
  },
  {
   "cell_type": "markdown",
   "id": "c7261e5e-e6df-4e34-b22c-cb81c13f5d84",
   "metadata": {},
   "source": [
    "This notebook computes the **geometric mean score** (GM) for a trained model, following [Kim, Jeong, and Shin](https://arxiv.org/abs/2004.00431).\n",
    "\n",
    "Geometric mean score (GM) is defined as the geometric mean of per-class recalls."
   ]
  },
  {
   "cell_type": "markdown",
   "id": "dbb173c1-dc0c-48dc-8d7c-ba68848f7db5",
   "metadata": {},
   "source": [
    "## Imports"
   ]
  },
  {
   "cell_type": "code",
   "execution_count": 1,
   "id": "ca544103-0b6c-4cd4-92d1-4f86cb607739",
   "metadata": {},
   "outputs": [],
   "source": [
    "import numpy as np\n",
    "import torch"
   ]
  },
  {
   "cell_type": "markdown",
   "id": "c6cb3485-90e9-4b64-9a09-278f3aaae399",
   "metadata": {},
   "source": [
    "## Configuration"
   ]
  },
  {
   "cell_type": "code",
   "execution_count": 2,
   "id": "f5761de6-91db-4ec1-84f0-fb77be19db26",
   "metadata": {},
   "outputs": [],
   "source": [
    "from omegaconf import OmegaConf\n",
    "\n",
    "CONFIG = OmegaConf.create({\n",
    "    # Model\n",
    "    \"model\": \"WideResNet-28-10-torchdistill\",\n",
    "    \"dropout_rate\": 0.3,\n",
    "    \"num_classes\": 10,\n",
    "    \"noise_bn_option\": \"DARBN\",\n",
    "    # Dataset\n",
    "    \"image_size\": 32,\n",
    "    \"normalize_mean\": [0.4914, 0.4822, 0.4465],\n",
    "    \"normalize_std\": [0.2023, 0.1994, 0.2010],\n",
    "    \"valid_transform_reprs\": [\"ToTensor()\"],\n",
    "    \"batch_size\": 128,\n",
    "    \"num_workers\": 8,\n",
    "    \"enable_pin_memory\": True,\n",
    "\n",
    "    # To change\n",
    "    \"checkpoint_filename\": \"CIFAR10IR100-open__epoch_199.pt\",\n",
    "    \"valid_dataset\": \"CIFAR10\",\n",
    "})"
   ]
  },
  {
   "cell_type": "code",
   "execution_count": 3,
   "id": "21c5bc62-43db-4444-9d0f-397198d1dab3",
   "metadata": {},
   "outputs": [],
   "source": [
    "device = torch.device(\"cuda\") if torch.cuda.is_available() else torch.device(\"cpu\")"
   ]
  },
  {
   "cell_type": "markdown",
   "id": "419225ae-8063-43f9-ac9f-e873106ed772",
   "metadata": {},
   "source": [
    "## Download checkpoint"
   ]
  },
  {
   "cell_type": "code",
   "execution_count": 4,
   "id": "3af7588d-2fe3-4dce-8b3e-4ada150c510c",
   "metadata": {},
   "outputs": [],
   "source": [
    "import os\n",
    "import gdown\n",
    "from storage import CHECKPOINT_URLS\n",
    "\n",
    "checkpoint_filepath = f\"checkpoints/{CONFIG.checkpoint_filename}\"\n",
    "if not os.path.exists(checkpoint_filepath):\n",
    "    gdown.download(CHECKPOINT_URLS[CONFIG.checkpoint_filename], checkpoint_filepath, quiet=False)"
   ]
  },
  {
   "cell_type": "markdown",
   "id": "b1fbfb99-792a-4f3e-a82b-e752a14af804",
   "metadata": {},
   "source": [
    "## Initialize Model"
   ]
  },
  {
   "cell_type": "code",
   "execution_count": 5,
   "id": "252e62c1-b9f4-4b1f-aa2e-27cb650b9475",
   "metadata": {},
   "outputs": [],
   "source": [
    "from initializers import initialize_model\n",
    "from initializers import InputNormalize\n",
    "from models.noise_bn_option import NoiseBnOption\n",
    "\n",
    "net = initialize_model(\n",
    "    model_name=CONFIG.model, \n",
    "    num_classes=CONFIG.num_classes, \n",
    "    noise_bn_option=NoiseBnOption[CONFIG.noise_bn_option],\n",
    "    dropout_rate=CONFIG.dropout_rate)\n",
    "net = net.to(device)\n",
    "\n",
    "normalizer = InputNormalize(\n",
    "    torch.Tensor(CONFIG.normalize_mean).to(device), \n",
    "    torch.Tensor(CONFIG.normalize_std).to(device)\n",
    ").to(device)"
   ]
  },
  {
   "cell_type": "code",
   "execution_count": 6,
   "id": "65a7d7e9-8403-4c20-a72d-d1e22c701189",
   "metadata": {},
   "outputs": [],
   "source": [
    "from checkpointing import load_checkpoint\n",
    "\n",
    "load_checkpoint(net, optimizer=None, checkpoint_filepath=checkpoint_filepath)\n",
    "net = net.eval()"
   ]
  },
  {
   "cell_type": "markdown",
   "id": "c9f78661-8a51-436b-bf8c-3219be4bf8ed",
   "metadata": {},
   "source": [
    "## Initialize Dataset"
   ]
  },
  {
   "cell_type": "code",
   "execution_count": 7,
   "id": "429a8259-c7f4-489d-8d82-f4b0d3ac6166",
   "metadata": {},
   "outputs": [
    {
     "name": "stdout",
     "output_type": "stream",
     "text": [
      "Files already downloaded and verified\n"
     ]
    }
   ],
   "source": [
    "from torch.utils.data import DataLoader\n",
    "from torchvision.datasets import CIFAR10, CIFAR100\n",
    "from initializers import initialize_transforms\n",
    "\n",
    "DATA_ROOT = \"./data\"\n",
    "valid_transform = initialize_transforms(CONFIG.valid_transform_reprs)\n",
    "\n",
    "if CONFIG.valid_dataset == \"CIFAR10\":\n",
    "    valid_dataset = CIFAR10(root=DATA_ROOT, train=False, transform=valid_transform, download=True)\n",
    "elif CONFIG.valid_dataset == \"CIFAR100\":\n",
    "    valid_dataset = CIFAR100(root=DATA_ROOT, train=False, transform=valid_transform, download=True)\n",
    "else:\n",
    "    raise ValueError(\"CONFIG.valid_dataset should either be CIFAR10 or CIFAR100\")\n",
    "\n",
    "valid_loader = DataLoader(\n",
    "    valid_dataset,\n",
    "    batch_size=CONFIG.batch_size,\n",
    "    num_workers=CONFIG.num_workers,\n",
    "    pin_memory=CONFIG.enable_pin_memory,\n",
    ")"
   ]
  },
  {
   "cell_type": "markdown",
   "id": "4131eaaf-1775-48c7-aff9-ea1719064430",
   "metadata": {},
   "source": [
    "## Generate Predictions"
   ]
  },
  {
   "cell_type": "code",
   "execution_count": 8,
   "id": "68eb5255-8045-4422-b713-a1e799485e35",
   "metadata": {},
   "outputs": [],
   "source": [
    "# Get all the data\n",
    "valid_outputs = []\n",
    "valid_labels = []\n",
    "for minibatch_i, (inputs, labels) in enumerate(valid_loader):\n",
    "    inputs = inputs.float().to(device)\n",
    "    labels = labels.to(device)\n",
    "\n",
    "    inputs = normalizer(inputs)\n",
    "    outputs = net(inputs)\n",
    "\n",
    "    valid_outputs.extend(outputs.cpu().detach().tolist())\n",
    "    valid_labels.extend(labels.cpu().detach().tolist())\n",
    "\n",
    "valid_outputs = np.array(valid_outputs)\n",
    "valid_labels = np.array(valid_labels)\n",
    "valid_preds = np.argmax(valid_outputs, axis=1)"
   ]
  },
  {
   "cell_type": "markdown",
   "id": "ddb4f65e-9abb-4e8d-b48c-2fc68f005f49",
   "metadata": {},
   "source": [
    "## Compute bACC and GM"
   ]
  },
  {
   "cell_type": "code",
   "execution_count": 9,
   "id": "2313a324-4a0d-4507-8ef6-ba4eb92aba54",
   "metadata": {},
   "outputs": [
    {
     "name": "stdout",
     "output_type": "stream",
     "text": [
      "bACC: 85.04, GM: 84.79\n"
     ]
    }
   ],
   "source": [
    "from sklearn.metrics import recall_score\n",
    "from scipy.stats import gmean\n",
    "\n",
    "recalls = recall_score(y_true=valid_labels, y_pred=valid_preds, labels=np.arange(CONFIG.num_classes), average=None)\n",
    "bacc = np.mean(recalls)\n",
    "gm = gmean(recalls)\n",
    "print(f\"bACC: {bacc * 100:.2f}, GM: {gm * 100:.2f}\")"
   ]
  }
 ],
 "metadata": {
  "kernelspec": {
   "display_name": "Python 3 (ipykernel)",
   "language": "python",
   "name": "python3"
  },
  "language_info": {
   "codemirror_mode": {
    "name": "ipython",
    "version": 3
   },
   "file_extension": ".py",
   "mimetype": "text/x-python",
   "name": "python",
   "nbconvert_exporter": "python",
   "pygments_lexer": "ipython3",
   "version": "3.9.16"
  }
 },
 "nbformat": 4,
 "nbformat_minor": 5
}
