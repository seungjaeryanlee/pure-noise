{
 "cells": [
  {
   "cell_type": "markdown",
   "id": "2a29bd97-39e9-4656-8d34-3dd8522c66a7",
   "metadata": {},
   "source": [
    "## Imports"
   ]
  },
  {
   "cell_type": "code",
   "execution_count": 1,
   "id": "a1438b3c-af14-4967-8c1f-8789edca58da",
   "metadata": {},
   "outputs": [],
   "source": [
    "import numpy as np\n",
    "import torch"
   ]
  },
  {
   "cell_type": "markdown",
   "id": "2fea211d-edd3-40aa-bed1-de6e2f9c6c75",
   "metadata": {},
   "source": [
    "## Configuration"
   ]
  },
  {
   "cell_type": "code",
   "execution_count": 25,
   "id": "d562ff18-0a25-4503-8d1d-1f31bdc5a9d2",
   "metadata": {},
   "outputs": [],
   "source": [
    "from omegaconf import OmegaConf\n",
    "\n",
    "CONFIG = OmegaConf.create({\n",
    "    # Model\n",
    "    \"model\": \"WideResNet-28-10-torchdistill\",\n",
    "    \"num_classes\": 10,\n",
    "    # Dataset\n",
    "    \"image_size\": 32,\n",
    "    \"pure_noise_mean\": [0.4988, 0.5040, 0.4926],\n",
    "    \"pure_noise_std\": [0.2498, 0.2480, 0.2718],\n",
    "    \"per_class_count\": 50,\n",
    "    \"valid_transform_reprs\": [\n",
    "        \"ConvertImageDtype(float)\",\n",
    "        \"Normalize((0.4988, 0.5040, 0.4926), (0.2498, 0.2480, 0.2718))\",\n",
    "    ],\n",
    "    \"batch_size\": 128,\n",
    "    \"num_workers\": 8,\n",
    "    \"enable_pin_memory\": True,\n",
    "    \"checkpoint_url\": \"https://drive.google.com/uc?id=1ZEaevP97mXYdLU_Jv6S5sm2oR3TZZLeF\", # no-warmup-open-0121__epoch_199.pt\n",
    "\n",
    "    # OPeN\n",
    "    \"delta\": 0.333333333333333333333333333333333333,\n",
    "    \"pure_noise_mean\": [0.4988, 0.5040, 0.4926],\n",
    "    \"pure_noise_std\": [0.2498, 0.2480, 0.2718],\n",
    "    \"pure_noise_image_size\": 32,\n",
    "    \"open_start_epoch\": 160,\n",
    "})"
   ]
  },
  {
   "cell_type": "code",
   "execution_count": 3,
   "id": "51cc54f7-df5c-4f5d-b711-67f03176f2e5",
   "metadata": {},
   "outputs": [],
   "source": [
    "device = torch.device(\"cuda\") if torch.cuda.is_available() else torch.device(\"cpu\")"
   ]
  },
  {
   "cell_type": "markdown",
   "id": "da632875-6ac2-4dc9-854e-47692e327103",
   "metadata": {},
   "source": [
    "## Download checkpoint"
   ]
  },
  {
   "cell_type": "code",
   "execution_count": 4,
   "id": "b6424292-740d-45ed-a33a-ea55d8b3ee62",
   "metadata": {},
   "outputs": [
    {
     "name": "stderr",
     "output_type": "stream",
     "text": [
      "Downloading...\n",
      "From: https://drive.google.com/uc?id=1ZEaevP97mXYdLU_Jv6S5sm2oR3TZZLeF\n",
      "To: /workspace/pure-noise/checkpoints/for_analysis.pt\n",
      "100%|██████████| 292M/292M [00:03<00:00, 90.8MB/s] \n"
     ]
    },
    {
     "data": {
      "text/plain": [
       "'checkpoints/for_analysis.pt'"
      ]
     },
     "execution_count": 4,
     "metadata": {},
     "output_type": "execute_result"
    }
   ],
   "source": [
    "import gdown\n",
    "\n",
    "url = CONFIG.checkpoint_url\n",
    "checkpoint_filepath = \"checkpoints/for_analysis.pt\"\n",
    "gdown.download(url, checkpoint_filepath, quiet=False)"
   ]
  },
  {
   "cell_type": "markdown",
   "id": "3a4553f6-7098-44ad-ada1-592c3340a9cc",
   "metadata": {},
   "source": [
    "## Set Random Seed"
   ]
  },
  {
   "cell_type": "code",
   "execution_count": 5,
   "id": "bbd50050-6595-43f0-9072-9909d508ebd6",
   "metadata": {},
   "outputs": [
    {
     "data": {
      "text/plain": [
       "<torch._C.Generator at 0x7f9d5d1a5530>"
      ]
     },
     "execution_count": 5,
     "metadata": {},
     "output_type": "execute_result"
    }
   ],
   "source": [
    "np.random.seed(0)\n",
    "torch.manual_seed(0)\n",
    "# torch.use_deterministic_algorithms(True)"
   ]
  },
  {
   "cell_type": "markdown",
   "id": "b8f26e30-3733-4ee3-bfa7-ea0ae0927bb8",
   "metadata": {},
   "source": [
    "## Initialize Model"
   ]
  },
  {
   "cell_type": "code",
   "execution_count": 6,
   "id": "73cdc970-f948-4da7-99ac-6a3843e973c6",
   "metadata": {},
   "outputs": [],
   "source": [
    "from initializers import initialize_model\n",
    "\n",
    "net = initialize_model(\n",
    "    model_name=CONFIG.model, \n",
    "    num_classes=CONFIG.num_classes, \n",
    "    enable_dar_bn=False,\n",
    "    dropout_rate=0,\n",
    ")"
   ]
  },
  {
   "cell_type": "code",
   "execution_count": 7,
   "id": "1a0d7c92-0088-4ac3-b59d-0ee6f9f19854",
   "metadata": {},
   "outputs": [],
   "source": [
    "from checkpointing import load_checkpoint\n",
    "\n",
    "load_checkpoint(net, optimizer=None, checkpoint_filepath=checkpoint_filepath)"
   ]
  },
  {
   "cell_type": "code",
   "execution_count": 8,
   "id": "4c41431a-84a9-47ee-974a-edce0842a892",
   "metadata": {},
   "outputs": [],
   "source": [
    "net = net.to(device)\n",
    "net = net.eval()"
   ]
  },
  {
   "cell_type": "markdown",
   "id": "78d2ad5e-9901-40cd-86a7-6602e82bb2bc",
   "metadata": {},
   "source": [
    "## Load Dataset"
   ]
  },
  {
   "cell_type": "code",
   "execution_count": 9,
   "id": "fa54ddb0-e01e-44f5-b05b-f4b4169f258b",
   "metadata": {},
   "outputs": [],
   "source": [
    "from torch.utils.data import DataLoader\n",
    "\n",
    "from datasets.cifar10 import build_train_dataset, build_valid_dataset\n",
    "from initializers import initialize_transforms\n",
    "\n",
    "# TODO: Use train_dataset\n",
    "valid_transform = initialize_transforms(CONFIG.valid_transform_reprs)\n",
    "valid_dataset = build_valid_dataset(transform=valid_transform)\n",
    "valid_loader = DataLoader(\n",
    "    valid_dataset,\n",
    "    batch_size=CONFIG.batch_size,\n",
    "    num_workers=CONFIG.num_workers,\n",
    "    pin_memory=CONFIG.enable_pin_memory,\n",
    ")"
   ]
  },
  {
   "cell_type": "markdown",
   "id": "67655df1-38e2-4323-949e-e302718c5764",
   "metadata": {},
   "source": [
    "## Setup Optimizer"
   ]
  },
  {
   "cell_type": "code",
   "execution_count": 10,
   "id": "0209e21f-5706-47da-8c70-3a89153b7bfb",
   "metadata": {},
   "outputs": [],
   "source": [
    "import torch.nn as nn\n",
    "\n",
    "criterion = nn.CrossEntropyLoss(reduction=\"mean\")"
   ]
  },
  {
   "cell_type": "markdown",
   "id": "330ef779-447c-40ce-9d9f-773ec5cc38c0",
   "metadata": {},
   "source": [
    "## Compute Gradients"
   ]
  },
  {
   "cell_type": "code",
   "execution_count": 22,
   "id": "97c82434-4431-49a5-a7c5-8b96fe8a92ee",
   "metadata": {},
   "outputs": [],
   "source": [
    "def get_gradients(net):\n",
    "    # NOTE: Chose last linear layer in this case\n",
    "    return net.fc.weight.grad.cpu().clone()"
   ]
  },
  {
   "cell_type": "code",
   "execution_count": 34,
   "id": "1892121f-0342-4bd0-9783-be548e73a31b",
   "metadata": {},
   "outputs": [],
   "source": [
    "# TODO: Setup train dataset with correct transforms\n",
    "train_dataset = build_train_dataset(transform=valid_transform)\n",
    "num_samples_per_class = torch.Tensor(train_dataset.class_frequency).to(device)\n",
    "pure_noise_mean = torch.Tensor(CONFIG.pure_noise_mean).to(device)\n",
    "pure_noise_std = torch.Tensor(CONFIG.pure_noise_std).to(device)"
   ]
  },
  {
   "cell_type": "code",
   "execution_count": 35,
   "id": "90c0469b-95c8-4889-bff5-d5cef83c0fab",
   "metadata": {},
   "outputs": [],
   "source": [
    "from replace_with_pure_noise import replace_with_pure_noise\n",
    "\n",
    "# Get all the data\n",
    "valid_grads = []\n",
    "valid_labels = []\n",
    "for minibatch_i, (inputs, labels) in enumerate(valid_loader):\n",
    "    inputs = inputs.float().to(device)\n",
    "    labels = labels.to(device)\n",
    "\n",
    "    net.zero_grad()\n",
    "    outputs = net(inputs)\n",
    "    loss = criterion(outputs, labels)\n",
    "    loss.backward()\n",
    "    grads_without_open = get_gradients(net)\n",
    "\n",
    "    net.zero_grad()\n",
    "    noise_mask = replace_with_pure_noise(\n",
    "        images=inputs,\n",
    "        targets=labels,\n",
    "        delta=CONFIG.delta,\n",
    "        num_samples_per_class=num_samples_per_class,\n",
    "        dataset_mean=pure_noise_mean,\n",
    "        dataset_std=pure_noise_std,\n",
    "        image_size=CONFIG.pure_noise_image_size,\n",
    "    )\n",
    "    outputs = net(inputs, noise_mask=noise_mask)\n",
    "    loss = criterion(outputs, labels)\n",
    "    loss.backward()\n",
    "    grads_with_open = get_gradients(net)\n",
    "\n",
    "    break\n",
    "\n",
    "valid_grads = np.array(valid_grads)\n",
    "valid_labels = np.array(valid_labels)"
   ]
  },
  {
   "cell_type": "code",
   "execution_count": 38,
   "id": "9909d664-14dd-4b66-a705-2979407392fd",
   "metadata": {},
   "outputs": [
    {
     "data": {
      "text/plain": [
       "(tensor(2.9804e-10), tensor(2.3311e-05))"
      ]
     },
     "execution_count": 38,
     "metadata": {},
     "output_type": "execute_result"
    }
   ],
   "source": [
    "grads_without_open.mean(), grads_without_open.var()"
   ]
  },
  {
   "cell_type": "code",
   "execution_count": 39,
   "id": "db9e2f47-6afb-48b2-9ace-572d35d6e3b8",
   "metadata": {},
   "outputs": [
    {
     "data": {
      "text/plain": [
       "(tensor(2.0023e-10), tensor(6.3590e-05))"
      ]
     },
     "execution_count": 39,
     "metadata": {},
     "output_type": "execute_result"
    }
   ],
   "source": [
    "grads_with_open.mean(), grads_with_open.var()"
   ]
  },
  {
   "cell_type": "code",
   "execution_count": null,
   "id": "c65cb37c-9118-449d-aa9f-4d1a467e1161",
   "metadata": {},
   "outputs": [],
   "source": []
  }
 ],
 "metadata": {
  "kernelspec": {
   "display_name": "Python 3 (ipykernel)",
   "language": "python",
   "name": "python3"
  },
  "language_info": {
   "codemirror_mode": {
    "name": "ipython",
    "version": 3
   },
   "file_extension": ".py",
   "mimetype": "text/x-python",
   "name": "python",
   "nbconvert_exporter": "python",
   "pygments_lexer": "ipython3",
   "version": "3.9.16"
  }
 },
 "nbformat": 4,
 "nbformat_minor": 5
}
