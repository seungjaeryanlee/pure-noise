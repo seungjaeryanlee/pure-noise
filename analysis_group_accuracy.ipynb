{
 "cells": [
  {
   "cell_type": "markdown",
   "id": "c58f73a1-1ed6-45f6-a382-e689bd6abf62",
   "metadata": {},
   "source": [
    "## Imports"
   ]
  },
  {
   "cell_type": "code",
   "execution_count": 1,
   "id": "3c8f52b0-3c89-42e1-afa6-4aaf0a743230",
   "metadata": {},
   "outputs": [],
   "source": [
    "import numpy as np\n",
    "import torch"
   ]
  },
  {
   "cell_type": "markdown",
   "id": "4395e73b-83f2-4bf9-9730-7beaa437f596",
   "metadata": {},
   "source": [
    "## Set Random Seed"
   ]
  },
  {
   "cell_type": "code",
   "execution_count": 2,
   "id": "7153c219-9c1e-4b2b-aacb-2351c6c1c9a2",
   "metadata": {},
   "outputs": [],
   "source": [
    "np.random.seed(0)\n",
    "torch.manual_seed(0)\n",
    "torch.use_deterministic_algorithms(True)"
   ]
  },
  {
   "cell_type": "markdown",
   "id": "a5771737-a98a-4ffa-90f5-76a09cd58ebf",
   "metadata": {},
   "source": [
    "## Configuration"
   ]
  },
  {
   "cell_type": "code",
   "execution_count": 3,
   "id": "b27fa9df-5b53-4049-a42b-904ee3de5bc7",
   "metadata": {},
   "outputs": [],
   "source": [
    "from omegaconf import OmegaConf\n",
    "\n",
    "CONFIG = OmegaConf.create({\n",
    "    # Dataset\n",
    "    \"num_classes\": 100,\n",
    "    \"image_size\": 32,\n",
    "    \"valid_transform_reprs\": [\"ToTensor()\"],\n",
    "\n",
    "    # Mean and std for normalization\n",
    "    \"normalize_mean\": [0.4914, 0.4822, 0.4465],\n",
    "    \"normalize_std\": [0.2023, 0.1994, 0.2010],\n",
    "\n",
    "    # DataLoader\n",
    "    \"batch_size\": 128,\n",
    "    \"num_workers\": 8,\n",
    "    \"enable_pin_memory\": True,\n",
    "\n",
    "    # Model\n",
    "    \"model\": \"WideResNet-28-10-torchdistill\",\n",
    "    \"dropout_rate\": 0.3,\n",
    "\n",
    "    # BN\n",
    "    \"noise_bn_option\": \"DARBN\",\n",
    "\n",
    "    # Checkpoint\n",
    "    \"checkpoint_filenames_dict\": {\n",
    "        # \"ERM\": \"CIFAR10IR100__epoch_199.pt\",\n",
    "        # \"DRS\": \"simclr-drs__epoch_199.pt\",\n",
    "        # \"OPeN\": \"CIFAR10IR100-open__epoch_199.pt\",\n",
    "        \"ERM\": \"CIFAR100IR100__epoch_199.pt\",\n",
    "        \"DRS\": \"CIFAR100IR100-rs__epoch_199.pt\",\n",
    "        \"OPeN\": \"CIFAR100IR100-open__epoch_199.pt\",\n",
    "    }\n",
    "})"
   ]
  },
  {
   "cell_type": "code",
   "execution_count": 4,
   "id": "d5a9124a-8dc8-4ab7-a184-199cc3e5d339",
   "metadata": {},
   "outputs": [],
   "source": [
    "device = torch.device(\"cuda\") if torch.cuda.is_available() else torch.device(\"cpu\")"
   ]
  },
  {
   "cell_type": "markdown",
   "id": "b7791c78-3ed2-428e-a25e-07782555bd51",
   "metadata": {},
   "source": [
    "## Download checkpoint"
   ]
  },
  {
   "cell_type": "code",
   "execution_count": 5,
   "id": "3432276c-fa7c-4465-91a7-a2c45fe50790",
   "metadata": {},
   "outputs": [],
   "source": [
    "import os\n",
    "import gdown\n",
    "from storage import CHECKPOINT_URLS\n",
    "\n",
    "def download_checkpoint(checkpoint_filename):\n",
    "    checkpoint_filepath = f\"checkpoints/{checkpoint_filename}\"\n",
    "    if not os.path.exists(checkpoint_filepath):\n",
    "        gdown.download(CHECKPOINT_URLS[checkpoint_filename], checkpoint_filepath, quiet=False)\n",
    "\n",
    "    return checkpoint_filepath"
   ]
  },
  {
   "cell_type": "markdown",
   "id": "8f41accb-e53e-49b6-b00c-c11f2af053d9",
   "metadata": {},
   "source": [
    "## Initialize Model"
   ]
  },
  {
   "cell_type": "code",
   "execution_count": 6,
   "id": "97030eec-419e-426c-957f-168076f9bf4a",
   "metadata": {},
   "outputs": [],
   "source": [
    "from initializers import initialize_model, InputNormalize\n",
    "from models.noise_bn_option import NoiseBnOption\n",
    "from checkpointing import load_checkpoint\n",
    "\n",
    "\n",
    "def get_model_and_normalizer(checkpoint_filepath):\n",
    "    net = initialize_model(\n",
    "        model_name=CONFIG.model, \n",
    "        num_classes=CONFIG.num_classes, \n",
    "        noise_bn_option=NoiseBnOption[CONFIG.noise_bn_option],\n",
    "        dropout_rate=CONFIG.dropout_rate)\n",
    "    load_checkpoint(net, optimizer=None, checkpoint_filepath=checkpoint_filepath)\n",
    "    net = net.to(device)\n",
    "    net = net.eval()\n",
    "\n",
    "    normalizer = InputNormalize(\n",
    "        torch.Tensor(CONFIG.normalize_mean).to(device), \n",
    "        torch.Tensor(CONFIG.normalize_std).to(device)\n",
    "    ).to(device)\n",
    "\n",
    "    return net, normalizer"
   ]
  },
  {
   "cell_type": "markdown",
   "id": "6f7c0d05-f022-4722-b724-97d0c0f45fa4",
   "metadata": {},
   "source": [
    "## Load Dataset"
   ]
  },
  {
   "cell_type": "code",
   "execution_count": 7,
   "id": "16139c18-fca9-48e3-92f4-78cf7695c507",
   "metadata": {},
   "outputs": [
    {
     "name": "stdout",
     "output_type": "stream",
     "text": [
      "Files already downloaded and verified\n"
     ]
    }
   ],
   "source": [
    "from torch.utils.data import DataLoader\n",
    "from torchvision.datasets import CIFAR10, CIFAR100\n",
    "\n",
    "from initializers import initialize_transforms\n",
    "\n",
    "DATA_ROOT = \"./data\"\n",
    "valid_transform = initialize_transforms(CONFIG.valid_transform_reprs)\n",
    "if CONFIG.num_classes == 10:\n",
    "    valid_dataset = CIFAR10(root=DATA_ROOT, train=False, transform=valid_transform, download=True)\n",
    "elif CONFIG.num_classes == 100:\n",
    "    valid_dataset = CIFAR100(root=DATA_ROOT, train=False, transform=valid_transform, download=True)\n",
    "else:\n",
    "    raise ValueError(\"CONFIG.num_classes should be 10 or 100\")\n",
    "\n",
    "valid_loader = DataLoader(\n",
    "    valid_dataset,\n",
    "    batch_size=CONFIG.batch_size,\n",
    "    num_workers=CONFIG.num_workers,\n",
    "    pin_memory=CONFIG.enable_pin_memory,\n",
    ")"
   ]
  },
  {
   "cell_type": "markdown",
   "id": "2166ef46-4bbf-4d73-8b20-58a94172011d",
   "metadata": {},
   "source": [
    "## Generate Predictions"
   ]
  },
  {
   "cell_type": "code",
   "execution_count": 8,
   "id": "a3dd8cd6-f204-4a06-adf1-e25e84cffd03",
   "metadata": {},
   "outputs": [],
   "source": [
    "def predict(net, normalizer, valid_loader):\n",
    "    valid_outputs = []\n",
    "    valid_labels = []\n",
    "    for minibatch_i, (inputs, labels) in enumerate(valid_loader):\n",
    "        inputs = inputs.float().to(device)\n",
    "        labels = labels.to(device)\n",
    "\n",
    "        with torch.no_grad():\n",
    "            inputs = normalizer(inputs)\n",
    "            outputs = net(inputs)\n",
    "\n",
    "        valid_outputs.extend(outputs.cpu().detach().tolist())\n",
    "        valid_labels.extend(labels.cpu().detach().tolist())\n",
    "\n",
    "    valid_outputs = np.array(valid_outputs)\n",
    "    valid_labels = np.array(valid_labels)\n",
    "    valid_preds = np.argmax(valid_outputs, axis=1)\n",
    "\n",
    "    return valid_preds, valid_labels"
   ]
  },
  {
   "cell_type": "markdown",
   "id": "60262af2-ddb1-463a-800c-8bc21cb1303b",
   "metadata": {},
   "source": [
    "## Compute Group Accuracy"
   ]
  },
  {
   "cell_type": "code",
   "execution_count": 9,
   "id": "da95d040-b631-4d53-b30f-da015b86c29c",
   "metadata": {},
   "outputs": [],
   "source": [
    "from sklearn.metrics import recall_score\n",
    "\n",
    "def compute_group_accuracy(preds, labels):\n",
    "    recalls = recall_score(\n",
    "        y_true=labels,\n",
    "        y_pred=preds,\n",
    "        labels=np.arange(CONFIG.num_classes),\n",
    "        average=None,\n",
    "    )\n",
    "\n",
    "    number_of_groups = 5    \n",
    "    class_per_group = len(recalls) // number_of_groups\n",
    "    group_accs = []\n",
    "    for group_i in range(number_of_groups):\n",
    "        group_recalls = recalls[group_i*class_per_group:(group_i+1)*class_per_group]\n",
    "        group_acc = np.mean(group_recalls) * 100\n",
    "        group_accs.append(group_acc)\n",
    "\n",
    "    return group_accs[::-1]"
   ]
  },
  {
   "cell_type": "markdown",
   "id": "46ad6aa6-7d52-44ba-bd9c-b83cea79b956",
   "metadata": {},
   "source": [
    "## Run"
   ]
  },
  {
   "cell_type": "code",
   "execution_count": 10,
   "id": "d6206c75-570b-4353-bdd1-d7b349692d9f",
   "metadata": {},
   "outputs": [
    {
     "name": "stderr",
     "output_type": "stream",
     "text": [
      "Downloading...\n",
      "From: https://drive.google.com/uc?id=1UwEt6VJklIGsG4SVNENv9aSqUfruyvIh\n",
      "To: /workspace/pure-noise/checkpoints/CIFAR100IR100__epoch_199.pt\n",
      "100%|██████████| 292M/292M [00:04<00:00, 61.1MB/s] \n",
      "Downloading...\n",
      "From: https://drive.google.com/uc?id=1bdsOBDmdE4rPUjnxq7hwmXVEYFsqk5dH\n",
      "To: /workspace/pure-noise/checkpoints/CIFAR100IR100-rs__epoch_199.pt\n",
      "100%|██████████| 292M/292M [00:06<00:00, 48.1MB/s] \n",
      "Downloading...\n",
      "From: https://drive.google.com/uc?id=1xo7ex0cIanR-FxQ8qFlKSR0fv3PdUmXk\n",
      "To: /workspace/pure-noise/checkpoints/CIFAR100IR100-open__epoch_199.pt\n",
      "100%|██████████| 292M/292M [00:05<00:00, 57.1MB/s] \n"
     ]
    }
   ],
   "source": [
    "group_accs_per_method = {}\n",
    "for method_name, checkpoint_filename in CONFIG.checkpoint_filenames_dict.items():\n",
    "    checkpoint_filepath = download_checkpoint(checkpoint_filename)\n",
    "    net, normalizer = get_model_and_normalizer(checkpoint_filepath)\n",
    "    preds, labels = predict(net, normalizer, valid_loader)\n",
    "    group_accs = compute_group_accuracy(preds, labels)\n",
    "    group_accs_per_method[method_name] = group_accs"
   ]
  },
  {
   "cell_type": "code",
   "execution_count": 11,
   "id": "8803efab-2621-435d-bc8a-23bd903643cc",
   "metadata": {},
   "outputs": [
    {
     "data": {
      "text/plain": [
       "{'ERM': [9.049999999999999,\n",
       "  31.399999999999995,\n",
       "  49.55000000000001,\n",
       "  66.15000000000002,\n",
       "  79.4],\n",
       " 'DRS': [22.4, 38.65, 52.95000000000001, 65.05000000000001, 75.05000000000001],\n",
       " 'OPeN': [28.1, 40.5, 55.65, 64.24999999999999, 72.09999999999998]}"
      ]
     },
     "execution_count": 11,
     "metadata": {},
     "output_type": "execute_result"
    }
   ],
   "source": [
    "group_accs_per_method"
   ]
  },
  {
   "cell_type": "markdown",
   "id": "c6cb2746-f037-46ae-a267-d9e53ed9a69c",
   "metadata": {},
   "source": [
    "## Plot"
   ]
  },
  {
   "cell_type": "code",
   "execution_count": 12,
   "id": "e6c6a433-be8f-4689-b71e-6501087f7325",
   "metadata": {},
   "outputs": [],
   "source": [
    "import seaborn as sns\n",
    "sns.set()"
   ]
  },
  {
   "cell_type": "code",
   "execution_count": 13,
   "id": "b879136d-e304-445c-8944-75e302c6cedc",
   "metadata": {},
   "outputs": [
    {
     "data": {
      "image/png": "[encoded data removed]",
      "text/plain": [
       "<Figure size 640x480 with 1 Axes>"
      ]
     },
     "metadata": {},
     "output_type": "display_data"
    }
   ],
   "source": [
    "import matplotlib.pyplot as plt\n",
    "\n",
    "fig, ax = plt.subplots()\n",
    "x_axis = np.arange(5)\n",
    "bar_width = 0.3\n",
    "bar1 = ax.bar(x_axis - bar_width, group_accs_per_method[\"ERM\"], bar_width, label=\"ERM\")\n",
    "bar2 = ax.bar(x_axis, group_accs_per_method[\"DRS\"], bar_width, label=\"DRS\")\n",
    "bar3 = ax.bar(x_axis + bar_width, group_accs_per_method[\"OPeN\"], bar_width, label=\"OPeN\")\n",
    "\n",
    "for bar in [bar1, bar2, bar3]:\n",
    "    for rect in bar:\n",
    "        height = rect.get_height()\n",
    "        ax.text(rect.get_x() + rect.get_width()/2, 1.0*height, f\"{height:.1f}\", ha=\"center\", va=\"bottom\", size=8)\n",
    "\n",
    "ax.set_ylim(0, 110)\n",
    "ax.set_xticks(x_axis, [\"Group 1\", \"Group 2\", \"Group 3\", \"Group 4\", \"Group 5\"])\n",
    "ax.set_ylabel(\"Mean accuracy (%)\")\n",
    "ax.legend()\n",
    "fig.savefig(\"group_accuracy.png\", bbox_inches='tight')\n",
    "fig.show()"
   ]
  }
 ],
 "metadata": {
  "kernelspec": {
   "display_name": "Python 3 (ipykernel)",
   "language": "python",
   "name": "python3"
  },
  "language_info": {
   "codemirror_mode": {
    "name": "ipython",
    "version": 3
   },
   "file_extension": ".py",
   "mimetype": "text/x-python",
   "name": "python",
   "nbconvert_exporter": "python",
   "pygments_lexer": "ipython3",
   "version": "3.9.16"
  }
 },
 "nbformat": 4,
 "nbformat_minor": 5
}
