{
 "cells": [
  {
   "cell_type": "markdown",
   "id": "5941aef1-fee1-4d64-a438-acbc8ab25d22",
   "metadata": {},
   "source": [
    "## Dataset"
   ]
  },
  {
   "cell_type": "code",
   "execution_count": 56,
   "id": "cf771cb7-8d82-4d5a-b1a7-76a75adc4ce6",
   "metadata": {},
   "outputs": [],
   "source": [
    "from datasets.cifar10 import CIFAR10LTDataset"
   ]
  },
  {
   "cell_type": "code",
   "execution_count": 22,
   "id": "44463fd8-b1bf-4246-b478-6dbcaff7458c",
   "metadata": {},
   "outputs": [],
   "source": [
    "train_json_filepath = \"converted_data/cifar10_imbalance100/cifar10_imbalance100_train.json\"\n",
    "train_images_dirpath = \"converted_data/cifar10_imbalance100/images/\"\n",
    "train_dataset = CIFAR10LTDataset(\n",
    "    json_filepath=train_json_filepath,\n",
    "    images_dirpath=train_images_dirpath,\n",
    ")"
   ]
  },
  {
   "cell_type": "code",
   "execution_count": 23,
   "id": "32ddd047-6240-41ff-bb0e-7da633c9c544",
   "metadata": {},
   "outputs": [],
   "source": [
    "valid_json_filepath = \"converted_data/cifar10_imbalance100/cifar10_imbalance100_valid.json\"\n",
    "valid_images_dirpath = \"converted_data/cifar10_imbalance100/images/\"\n",
    "valid_dataset = CIFAR10LTDataset(\n",
    "    json_filepath=valid_json_filepath,\n",
    "    images_dirpath=valid_images_dirpath,\n",
    ")"
   ]
  },
  {
   "cell_type": "code",
   "execution_count": 24,
   "id": "3e73a239-77e7-4ba3-b779-0fb61f55be2c",
   "metadata": {},
   "outputs": [
    {
     "data": {
      "text/plain": [
       "(12406, 10000)"
      ]
     },
     "execution_count": 24,
     "metadata": {},
     "output_type": "execute_result"
    }
   ],
   "source": [
    "len(train_dataset), len(valid_dataset)"
   ]
  },
  {
   "cell_type": "markdown",
   "id": "a2d6001f-8191-44f2-9f05-39fe3429455d",
   "metadata": {},
   "source": [
    "## DataLoader"
   ]
  },
  {
   "cell_type": "code",
   "execution_count": 44,
   "id": "23beb5a9-6af8-445d-8f2e-1743cbee1a59",
   "metadata": {},
   "outputs": [],
   "source": [
    "# Compute weights\n",
    "import numpy as np\n",
    "labels = np.arange(10)\n",
    "sample_labels = [elem[1] for elem in train_dataset]\n",
    "sample_labels_count = np.array([len(np.where(sample_labels == l)[0]) for l in labels])\n",
    "weights = 1. / labels_count\n",
    "sample_weights = np.array([weights[l] for l in sample_labels])"
   ]
  },
  {
   "cell_type": "code",
   "execution_count": 51,
   "id": "a3d87ec9-355b-4eb0-9e19-6fc001b978e1",
   "metadata": {},
   "outputs": [],
   "source": [
    "from torch.utils.data import DataLoader, WeightedRandomSampler\n",
    "\n",
    "train_sampler = WeightedRandomSampler(\n",
    "    weights=sample_weights,\n",
    "    num_samples=50000, # https://stackoverflow.com/a/67802529\n",
    "    replacement=True,\n",
    ")\n",
    "train_loader = DataLoader(\n",
    "    train_dataset,\n",
    "    sampler=train_sampler,\n",
    "    batch_size=128,\n",
    ")"
   ]
  },
  {
   "cell_type": "code",
   "execution_count": null,
   "id": "b1e44e7b-9f83-4296-a73e-5491ede818b7",
   "metadata": {},
   "outputs": [],
   "source": []
  }
 ],
 "metadata": {
  "kernelspec": {
   "display_name": "Python 3 (ipykernel)",
   "language": "python",
   "name": "python3"
  },
  "language_info": {
   "codemirror_mode": {
    "name": "ipython",
    "version": 3
   },
   "file_extension": ".py",
   "mimetype": "text/x-python",
   "name": "python",
   "nbconvert_exporter": "python",
   "pygments_lexer": "ipython3",
   "version": "3.7.13"
  }
 },
 "nbformat": 4,
 "nbformat_minor": 5
}
