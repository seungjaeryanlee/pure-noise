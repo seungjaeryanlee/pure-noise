{
 "cells": [
  {
   "cell_type": "code",
   "execution_count": 1,
   "id": "4841cc3d-a0d2-4b75-92ef-e22458004f11",
   "metadata": {},
   "outputs": [],
   "source": [
    "from datasets.dataset_statistics import dataset_mean_and_std"
   ]
  },
  {
   "cell_type": "code",
   "execution_count": 2,
   "id": "d3618409-36a5-4df5-9153-fb594a9d1fd6",
   "metadata": {},
   "outputs": [
    {
     "name": "stdout",
     "output_type": "stream",
     "text": [
      "Files already downloaded and verified\n",
      "Files already downloaded and verified\n",
      "Files already downloaded and verified\n",
      "Files already downloaded and verified\n",
      "Files already downloaded and verified\n",
      "Files already downloaded and verified\n"
     ]
    }
   ],
   "source": [
    "from torchvision import transforms\n",
    "from torchvision.datasets import CIFAR10, CIFAR100\n",
    "from datasets.imbalanced_cifar import IMBALANCECIFAR10, IMBALANCECIFAR100\n",
    "\n",
    "train_transform = transforms.ToTensor()\n",
    "\n",
    "DATA_ROOT = \"./data\"\n",
    "datasets = {\n",
    "    \"CIFAR10\": CIFAR10(root=DATA_ROOT, train=True, transform=train_transform, download=True),\n",
    "    \"CIFAR100\": CIFAR100(root=DATA_ROOT, train=True, transform=train_transform, download=True),\n",
    "    \"CIFAR10LT IR=50\": IMBALANCECIFAR10(root=DATA_ROOT, train=True, transform=train_transform, download=True, ir_ratio=50),\n",
    "    \"CIFAR10LT IR=100\": IMBALANCECIFAR10(root=DATA_ROOT, train=True, transform=train_transform, download=True, ir_ratio=100),\n",
    "    \"CIFAR10LT IR=50\": IMBALANCECIFAR100(root=DATA_ROOT, train=True, transform=train_transform, download=True, ir_ratio=50),\n",
    "    \"CIFAR100LT IR=100\": IMBALANCECIFAR100(root=DATA_ROOT, train=True, transform=train_transform, download=True, ir_ratio=100),\n",
    "}"
   ]
  },
  {
   "cell_type": "code",
   "execution_count": 3,
   "id": "7de837d1-5b3e-4676-bb85-2f83f4ef92ba",
   "metadata": {},
   "outputs": [
    {
     "name": "stdout",
     "output_type": "stream",
     "text": [
      "CIFAR10 [0.491400808095932, 0.48215898871421814, 0.44653093814849854] [0.24703224003314972, 0.24348513782024384, 0.26158785820007324]\n",
      "CIFAR100 [0.5070757865905762, 0.48655030131340027, 0.4409191310405731] [0.2673342823982239, 0.2564384639263153, 0.2761504650115967]\n",
      "CIFAR10LT IR=50 [0.520245373249054, 0.49159085750579834, 0.4415125250816345] [0.26759210228919983, 0.26091593503952026, 0.27780264616012573]\n",
      "CIFAR10LT IR=100 [0.49889692664146423, 0.5043673515319824, 0.4925764501094818] [0.2512706220149994, 0.24848942458629608, 0.27342748641967773]\n",
      "CIFAR100LT IR=100 [0.522779643535614, 0.49286705255508423, 0.44196709990501404] [0.2677024006843567, 0.26172226667404175, 0.2780342996120453]\n"
     ]
    }
   ],
   "source": [
    "for dataset_name, dataset in datasets.items():\n",
    "    dataset_mean, dataset_std = dataset_mean_and_std(dataset)\n",
    "    print(dataset_name, dataset_mean.cpu().tolist(), dataset_std.cpu().tolist())"
   ]
  }
 ],
 "metadata": {
  "kernelspec": {
   "display_name": "Python 3 (ipykernel)",
   "language": "python",
   "name": "python3"
  },
  "language_info": {
   "codemirror_mode": {
    "name": "ipython",
    "version": 3
   },
   "file_extension": ".py",
   "mimetype": "text/x-python",
   "name": "python",
   "nbconvert_exporter": "python",
   "pygments_lexer": "ipython3",
   "version": "3.9.16"
  }
 },
 "nbformat": 4,
 "nbformat_minor": 5
}
