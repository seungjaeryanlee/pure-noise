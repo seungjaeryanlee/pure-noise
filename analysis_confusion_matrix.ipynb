{
 "cells": [
  {
   "cell_type": "markdown",
   "id": "2a29bd97-39e9-4656-8d34-3dd8522c66a7",
   "metadata": {},
   "source": [
    "## Imports"
   ]
  },
  {
   "cell_type": "code",
   "execution_count": 1,
   "id": "a1438b3c-af14-4967-8c1f-8789edca58da",
   "metadata": {},
   "outputs": [],
   "source": [
    "import numpy as np\n",
    "import torch"
   ]
  },
  {
   "cell_type": "markdown",
   "id": "2fea211d-edd3-40aa-bed1-de6e2f9c6c75",
   "metadata": {},
   "source": [
    "## Configuration"
   ]
  },
  {
   "cell_type": "code",
   "execution_count": 2,
   "id": "d562ff18-0a25-4503-8d1d-1f31bdc5a9d2",
   "metadata": {},
   "outputs": [],
   "source": [
    "from omegaconf import OmegaConf\n",
    "\n",
    "CONFIG = OmegaConf.create({\n",
    "    # Dataset\n",
    "    \"num_classes\": 10,\n",
    "    \"valid_transform_reprs\": [\"ToTensor()\"],\n",
    "\n",
    "    # Mean and std for normalization\n",
    "    \"normalize_mean\": [0.4914, 0.4822, 0.4465],\n",
    "    \"normalize_std\": [0.2023, 0.1994, 0.2010],\n",
    "\n",
    "    # DataLoader\n",
    "    \"batch_size\": 128,\n",
    "    \"num_workers\": 8,\n",
    "    \"enable_pin_memory\": True,\n",
    "\n",
    "    # Model\n",
    "    \"model\": \"WideResNet-28-10-torchdistill\",\n",
    "    \"dropout_rate\": 0.3,\n",
    "\n",
    "    # BN\n",
    "    \"noise_bn_option\": \"DARBN\",\n",
    "\n",
    "    # Checkpoint\n",
    "    \"checkpoint_filename\": \"simclr-drs__epoch_199.pt\",\n",
    "})"
   ]
  },
  {
   "cell_type": "code",
   "execution_count": 3,
   "id": "51cc54f7-df5c-4f5d-b711-67f03176f2e5",
   "metadata": {},
   "outputs": [],
   "source": [
    "device = torch.device(\"cuda\") if torch.cuda.is_available() else torch.device(\"cpu\")"
   ]
  },
  {
   "cell_type": "markdown",
   "id": "da632875-6ac2-4dc9-854e-47692e327103",
   "metadata": {},
   "source": [
    "## Download checkpoint"
   ]
  },
  {
   "cell_type": "code",
   "execution_count": 4,
   "id": "b6424292-740d-45ed-a33a-ea55d8b3ee62",
   "metadata": {},
   "outputs": [],
   "source": [
    "import os\n",
    "import gdown\n",
    "from storage import CHECKPOINT_URLS\n",
    "\n",
    "checkpoint_filepath = f\"checkpoints/{CONFIG.checkpoint_filename}\"\n",
    "if not os.path.exists(checkpoint_filepath):\n",
    "    gdown.download(CHECKPOINT_URLS[CONFIG.checkpoint_filename], checkpoint_filepath, quiet=False)"
   ]
  },
  {
   "cell_type": "markdown",
   "id": "3a4553f6-7098-44ad-ada1-592c3340a9cc",
   "metadata": {},
   "source": [
    "## Set Random Seed"
   ]
  },
  {
   "cell_type": "code",
   "execution_count": 5,
   "id": "bbd50050-6595-43f0-9072-9909d508ebd6",
   "metadata": {},
   "outputs": [
    {
     "data": {
      "text/plain": [
       "<torch._C.Generator at 0x7fdc71efc4b0>"
      ]
     },
     "execution_count": 5,
     "metadata": {},
     "output_type": "execute_result"
    }
   ],
   "source": [
    "np.random.seed(0)\n",
    "torch.manual_seed(0)\n",
    "# torch.use_deterministic_algorithms(True)"
   ]
  },
  {
   "cell_type": "markdown",
   "id": "b8f26e30-3733-4ee3-bfa7-ea0ae0927bb8",
   "metadata": {},
   "source": [
    "## Initialize Model"
   ]
  },
  {
   "cell_type": "code",
   "execution_count": 6,
   "id": "73cdc970-f948-4da7-99ac-6a3843e973c6",
   "metadata": {},
   "outputs": [],
   "source": [
    "from initializers import initialize_model, InputNormalize\n",
    "from models.noise_bn_option import NoiseBnOption\n",
    "\n",
    "net = initialize_model(\n",
    "    model_name=CONFIG.model, \n",
    "    num_classes=CONFIG.num_classes, \n",
    "    noise_bn_option=NoiseBnOption[CONFIG.noise_bn_option],\n",
    "    dropout_rate=CONFIG.dropout_rate)\n",
    "net = net.to(device)\n",
    "\n",
    "normalizer = InputNormalize(\n",
    "    torch.Tensor(CONFIG.normalize_mean).to(device), \n",
    "    torch.Tensor(CONFIG.normalize_std).to(device)\n",
    ").to(device)"
   ]
  },
  {
   "cell_type": "code",
   "execution_count": 7,
   "id": "1a0d7c92-0088-4ac3-b59d-0ee6f9f19854",
   "metadata": {},
   "outputs": [],
   "source": [
    "from checkpointing import load_checkpoint\n",
    "\n",
    "load_checkpoint(net, optimizer=None, checkpoint_filepath=checkpoint_filepath)"
   ]
  },
  {
   "cell_type": "code",
   "execution_count": 8,
   "id": "4c41431a-84a9-47ee-974a-edce0842a892",
   "metadata": {},
   "outputs": [],
   "source": [
    "net = net.eval()"
   ]
  },
  {
   "cell_type": "markdown",
   "id": "78d2ad5e-9901-40cd-86a7-6602e82bb2bc",
   "metadata": {},
   "source": [
    "## Load Dataset"
   ]
  },
  {
   "cell_type": "code",
   "execution_count": 9,
   "id": "fa54ddb0-e01e-44f5-b05b-f4b4169f258b",
   "metadata": {},
   "outputs": [
    {
     "name": "stdout",
     "output_type": "stream",
     "text": [
      "Files already downloaded and verified\n"
     ]
    }
   ],
   "source": [
    "from torch.utils.data import DataLoader\n",
    "from torchvision.datasets import CIFAR10, CIFAR100\n",
    "from initializers import initialize_transforms\n",
    "\n",
    "DATA_ROOT = \"./data\"\n",
    "valid_transform = initialize_transforms(CONFIG.valid_transform_reprs)\n",
    "valid_dataset = CIFAR10(root=DATA_ROOT, train=False, transform=valid_transform, download=True)\n",
    "valid_loader = DataLoader(\n",
    "    valid_dataset,\n",
    "    batch_size=CONFIG.batch_size,\n",
    "    num_workers=CONFIG.num_workers,\n",
    "    pin_memory=CONFIG.enable_pin_memory,\n",
    ")"
   ]
  },
  {
   "cell_type": "markdown",
   "id": "330ef779-447c-40ce-9d9f-773ec5cc38c0",
   "metadata": {},
   "source": [
    "## Collect Outputs and Labels"
   ]
  },
  {
   "cell_type": "code",
   "execution_count": 10,
   "id": "90c0469b-95c8-4889-bff5-d5cef83c0fab",
   "metadata": {},
   "outputs": [],
   "source": [
    "# Get all the data\n",
    "valid_outputs = []\n",
    "valid_labels = []\n",
    "for minibatch_i, (inputs, labels) in enumerate(valid_loader):\n",
    "    inputs = inputs.float().to(device)\n",
    "\n",
    "    with torch.no_grad():\n",
    "        inputs = normalizer(inputs)\n",
    "        labels = labels.to(device)\n",
    "        outputs = net(inputs)\n",
    "\n",
    "    valid_outputs.extend(outputs.cpu().detach().tolist())\n",
    "    valid_labels.extend(labels.cpu().detach().tolist())\n",
    "\n",
    "valid_outputs = np.array(valid_outputs)\n",
    "valid_labels = np.array(valid_labels)\n",
    "valid_preds = np.argmax(valid_outputs, axis=1)"
   ]
  },
  {
   "cell_type": "code",
   "execution_count": 11,
   "id": "ee26d69c-fa4e-4aef-93f4-b47c740ddb48",
   "metadata": {},
   "outputs": [
    {
     "data": {
      "image/png": "[encoded data removed]",
      "text/plain": [
       "<Figure size 640x480 with 1 Axes>"
      ]
     },
     "metadata": {},
     "output_type": "display_data"
    }
   ],
   "source": [
    "import matplotlib.pyplot as plt\n",
    "from sklearn.metrics import ConfusionMatrixDisplay\n",
    "\n",
    "fig, ax = plt.subplots()\n",
    "cmp = ConfusionMatrixDisplay.from_predictions(y_true=valid_labels, y_pred=valid_preds, ax=ax, colorbar=False, cmap=plt.cm.Blues)\n",
    "ax.xaxis.set_ticks_position('top')\n",
    "ax.xaxis.set_label_position('top')\n",
    "# ax.set_title(f\"Confusion Matrix\")\n",
    "fig.savefig(f\"confusion_matrix_{CONFIG.checkpoint_filename}.png\", bbox_inches=\"tight\")\n",
    "fig.show()"
   ]
  }
 ],
 "metadata": {
  "kernelspec": {
   "display_name": "Python 3 (ipykernel)",
   "language": "python",
   "name": "python3"
  },
  "language_info": {
   "codemirror_mode": {
    "name": "ipython",
    "version": 3
   },
   "file_extension": ".py",
   "mimetype": "text/x-python",
   "name": "python",
   "nbconvert_exporter": "python",
   "pygments_lexer": "ipython3",
   "version": "3.9.16"
  }
 },
 "nbformat": 4,
 "nbformat_minor": 5
}
