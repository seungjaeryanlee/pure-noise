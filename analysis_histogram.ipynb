{
 "cells": [
  {
   "cell_type": "markdown",
   "id": "cc9f8267-b5e1-47c5-a0b7-36c8148942f2",
   "metadata": {},
   "source": [
    "## Imports"
   ]
  },
  {
   "cell_type": "code",
   "execution_count": 1,
   "id": "c45e743b-f11b-43f5-b371-7ccafe788090",
   "metadata": {},
   "outputs": [],
   "source": [
    "import numpy as np\n",
    "import torch"
   ]
  },
  {
   "cell_type": "markdown",
   "id": "14c4744a-46e6-4a7f-a84a-a9d0e6a7f27a",
   "metadata": {},
   "source": [
    "## Configuration"
   ]
  },
  {
   "cell_type": "code",
   "execution_count": 2,
   "id": "d79cba5d-70f4-459a-bec9-866c15b2439c",
   "metadata": {},
   "outputs": [],
   "source": [
    "from omegaconf import OmegaConf\n",
    "\n",
    "CONFIG = OmegaConf.create({\n",
    "    # Model\n",
    "    \"model\": \"WideResNet-28-10-torchdistill\",\n",
    "    \"num_classes\": 10,\n",
    "    # Dataset\n",
    "    \"image_size\": 32,\n",
    "    \"pure_noise_mean\": [0.4988, 0.5040, 0.4926],\n",
    "    \"pure_noise_std\": [0.2498, 0.2480, 0.2718],\n",
    "    \"pure_noise_count\": 1000,\n",
    "\n",
    "    \"checkpoint_filename\": \"no-warmup-open-0121__epoch_199.pt\",\n",
    "})"
   ]
  },
  {
   "cell_type": "code",
   "execution_count": 3,
   "id": "2f25c305-6d54-44f1-b130-3934cd81fb9d",
   "metadata": {},
   "outputs": [],
   "source": [
    "device = torch.device(\"cuda\") if torch.cuda.is_available() else torch.device(\"cpu\")"
   ]
  },
  {
   "cell_type": "markdown",
   "id": "4937213a-aa16-4010-b475-8adccc20da38",
   "metadata": {},
   "source": [
    "## Download checkpoint"
   ]
  },
  {
   "cell_type": "code",
   "execution_count": 4,
   "id": "14e60e08-a66a-4781-bdf4-0a439ef9770a",
   "metadata": {},
   "outputs": [],
   "source": [
    "import os\n",
    "import gdown\n",
    "from storage import CHECKPOINT_URLS\n",
    "\n",
    "checkpoint_filepath = f\"checkpoints/{CONFIG.checkpoint_filename}\"\n",
    "if not os.path.exists(checkpoint_filepath):\n",
    "    gdown.download(CHECKPOINT_URLS[CONFIG.checkpoint_filename], checkpoint_filepath, quiet=False)"
   ]
  },
  {
   "cell_type": "markdown",
   "id": "ceb1f33e-5a26-44d7-bd0c-582200374d44",
   "metadata": {},
   "source": [
    "## Set Random Seed"
   ]
  },
  {
   "cell_type": "code",
   "execution_count": 5,
   "id": "e45f70d6-fd24-4407-b899-e71bf5f276ff",
   "metadata": {},
   "outputs": [],
   "source": [
    "np.random.seed(0)\n",
    "torch.manual_seed(0)\n",
    "torch.use_deterministic_algorithms(True)"
   ]
  },
  {
   "cell_type": "markdown",
   "id": "2460fb97-13d8-4c91-a4d1-15b6f1a916c9",
   "metadata": {},
   "source": [
    "## Initialize Model"
   ]
  },
  {
   "cell_type": "code",
   "execution_count": 6,
   "id": "5a74ea4a-15fc-4c12-b5c7-c52fc8ab3bd3",
   "metadata": {},
   "outputs": [],
   "source": [
    "from initializers import initialize_model\n",
    "\n",
    "net = initialize_model(\n",
    "    model_name=CONFIG.model, \n",
    "    num_classes=CONFIG.num_classes, \n",
    "    enable_dar_bn=False,\n",
    "    dropout_rate=0,\n",
    ")\n",
    "net = net.to(device)\n",
    "net = net.eval()"
   ]
  },
  {
   "cell_type": "code",
   "execution_count": 7,
   "id": "3f3a41d6-5896-46b6-8e25-3e3c91d3c946",
   "metadata": {},
   "outputs": [],
   "source": [
    "from checkpointing import load_checkpoint\n",
    "\n",
    "load_checkpoint(net, optimizer=None, checkpoint_filepath=checkpoint_filepath)"
   ]
  },
  {
   "cell_type": "markdown",
   "id": "0a4d12a9-8963-4c4d-9ef2-81bb702b6d3e",
   "metadata": {},
   "source": [
    "## Generate Pure Noise Images"
   ]
  },
  {
   "cell_type": "code",
   "execution_count": 8,
   "id": "45827bc7-e325-4d98-a692-6a364bf91f1e",
   "metadata": {},
   "outputs": [],
   "source": [
    "from replace_with_pure_noise import sample_noise_images\n",
    "\n",
    "noise_images = sample_noise_images(\n",
    "    image_size=CONFIG.image_size,\n",
    "    mean=CONFIG.pure_noise_mean,\n",
    "    std=CONFIG.pure_noise_std, \n",
    "    count=CONFIG.pure_noise_count,\n",
    ")\n",
    "noise_images = noise_images.to(device)"
   ]
  },
  {
   "cell_type": "markdown",
   "id": "2815235b-54a7-4e04-b873-c651d5573385",
   "metadata": {},
   "source": [
    "## Generate Predictions"
   ]
  },
  {
   "cell_type": "code",
   "execution_count": 9,
   "id": "929c0824-fd95-4b5e-b460-5cdc0bc22cf1",
   "metadata": {},
   "outputs": [],
   "source": [
    "with torch.no_grad():\n",
    "    noise_image_outputs = net(noise_images)\n",
    "    _, predictions = torch.max(noise_image_outputs, 1)\n",
    "    predictions_list = predictions.cpu().tolist()"
   ]
  },
  {
   "cell_type": "code",
   "execution_count": 10,
   "id": "adfaba69-46c7-4aef-a2db-0855149504a0",
   "metadata": {},
   "outputs": [],
   "source": [
    "from collections import Counter\n",
    "\n",
    "predictions_counter = Counter(predictions_list)"
   ]
  },
  {
   "cell_type": "code",
   "execution_count": 11,
   "id": "d15e36e7-2e33-4235-9e8b-1c28c581b415",
   "metadata": {},
   "outputs": [
    {
     "data": {
      "image/png": "[encoded data removed]",
      "text/plain": [
       "<Figure size 640x480 with 1 Axes>"
      ]
     },
     "metadata": {},
     "output_type": "display_data"
    }
   ],
   "source": [
    "import matplotlib.pyplot as plt\n",
    "\n",
    "fig, ax = plt.subplots()\n",
    "ax.bar(np.arange(CONFIG.num_classes), height=[predictions_counter[k] for k in np.arange(CONFIG.num_classes)])\n",
    "ax.set_xticks(np.arange(CONFIG.num_classes))\n",
    "ax.set_title(f\"Histogram for {CONFIG.checkpoint_filename}\")\n",
    "fig.show()"
   ]
  }
 ],
 "metadata": {
  "kernelspec": {
   "display_name": "Python 3 (ipykernel)",
   "language": "python",
   "name": "python3"
  },
  "language_info": {
   "codemirror_mode": {
    "name": "ipython",
    "version": 3
   },
   "file_extension": ".py",
   "mimetype": "text/x-python",
   "name": "python",
   "nbconvert_exporter": "python",
   "pygments_lexer": "ipython3",
   "version": "3.9.16"
  }
 },
 "nbformat": 4,
 "nbformat_minor": 5
}
