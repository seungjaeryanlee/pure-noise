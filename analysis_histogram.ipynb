{
 "cells": [
  {
   "cell_type": "markdown",
   "id": "cc9f8267-b5e1-47c5-a0b7-36c8148942f2",
   "metadata": {},
   "source": [
    "## Imports"
   ]
  },
  {
   "cell_type": "code",
   "execution_count": 1,
   "id": "c45e743b-f11b-43f5-b371-7ccafe788090",
   "metadata": {},
   "outputs": [],
   "source": [
    "import numpy as np\n",
    "import torch"
   ]
  },
  {
   "cell_type": "markdown",
   "id": "14c4744a-46e6-4a7f-a84a-a9d0e6a7f27a",
   "metadata": {},
   "source": [
    "## Configuration"
   ]
  },
  {
   "cell_type": "code",
   "execution_count": 2,
   "id": "d79cba5d-70f4-459a-bec9-866c15b2439c",
   "metadata": {},
   "outputs": [],
   "source": [
    "from omegaconf import OmegaConf\n",
    "\n",
    "CONFIG = OmegaConf.create({\n",
    "    # Dataset\n",
    "    \"num_classes\": 10,\n",
    "    \"valid_transform_reprs\": [\"ToTensor()\"],\n",
    "\n",
    "    # Mean and std for normalization\n",
    "    \"normalize_mean\": [0.4914, 0.4822, 0.4465],\n",
    "    \"normalize_std\": [0.2023, 0.1994, 0.2010],\n",
    "\n",
    "    # DataLoader\n",
    "    \"batch_size\": 128,\n",
    "    \"num_workers\": 8,\n",
    "    \"enable_pin_memory\": True,\n",
    "\n",
    "    # Model\n",
    "    \"model\": \"WideResNet-28-10-torchdistill\",\n",
    "    \"dropout_rate\": 0.3,\n",
    "\n",
    "    # OPeN\n",
    "    \"pure_noise_image_size\": 32,\n",
    "    \"pure_noise_mean\": [0.4914, 0.4822, 0.4465],\n",
    "    \"pure_noise_std\": [0.2023, 0.1994, 0.2010],\n",
    "\n",
    "    # BN\n",
    "    \"noise_bn_option\": \"DARBN\",\n",
    "\n",
    "    # Histogram\n",
    "    \"pure_noise_count\": 1000,\n",
    "    \"ood_image_count\": 1000,\n",
    "\n",
    "    # Checkpoint\n",
    "    \"checkpoint_filename\": \"CIFAR10IR100__epoch_199.pt\",\n",
    "})"
   ]
  },
  {
   "cell_type": "code",
   "execution_count": 3,
   "id": "2f25c305-6d54-44f1-b130-3934cd81fb9d",
   "metadata": {},
   "outputs": [],
   "source": [
    "device = torch.device(\"cuda\") if torch.cuda.is_available() else torch.device(\"cpu\")"
   ]
  },
  {
   "cell_type": "markdown",
   "id": "4937213a-aa16-4010-b475-8adccc20da38",
   "metadata": {},
   "source": [
    "## Download checkpoint"
   ]
  },
  {
   "cell_type": "code",
   "execution_count": 4,
   "id": "14e60e08-a66a-4781-bdf4-0a439ef9770a",
   "metadata": {},
   "outputs": [],
   "source": [
    "import os\n",
    "import gdown\n",
    "from storage import CHECKPOINT_URLS\n",
    "\n",
    "checkpoint_filepath = f\"checkpoints/{CONFIG.checkpoint_filename}\"\n",
    "if not os.path.exists(checkpoint_filepath):\n",
    "    gdown.download(CHECKPOINT_URLS[CONFIG.checkpoint_filename], checkpoint_filepath, quiet=False)"
   ]
  },
  {
   "cell_type": "markdown",
   "id": "ceb1f33e-5a26-44d7-bd0c-582200374d44",
   "metadata": {},
   "source": [
    "## Set Random Seed"
   ]
  },
  {
   "cell_type": "code",
   "execution_count": 5,
   "id": "e45f70d6-fd24-4407-b899-e71bf5f276ff",
   "metadata": {},
   "outputs": [],
   "source": [
    "np.random.seed(0)\n",
    "torch.manual_seed(0)\n",
    "torch.use_deterministic_algorithms(True)"
   ]
  },
  {
   "cell_type": "markdown",
   "id": "2460fb97-13d8-4c91-a4d1-15b6f1a916c9",
   "metadata": {},
   "source": [
    "## Initialize Model"
   ]
  },
  {
   "cell_type": "code",
   "execution_count": 6,
   "id": "5a74ea4a-15fc-4c12-b5c7-c52fc8ab3bd3",
   "metadata": {},
   "outputs": [],
   "source": [
    "from initializers import initialize_model, InputNormalize\n",
    "from models.noise_bn_option import NoiseBnOption\n",
    "\n",
    "net = initialize_model(\n",
    "    model_name=CONFIG.model, \n",
    "    num_classes=CONFIG.num_classes, \n",
    "    noise_bn_option=NoiseBnOption[CONFIG.noise_bn_option],\n",
    "    dropout_rate=CONFIG.dropout_rate)\n",
    "net = net.to(device)\n",
    "\n",
    "normalizer = InputNormalize(\n",
    "    torch.Tensor(CONFIG.normalize_mean).to(device), \n",
    "    torch.Tensor(CONFIG.normalize_std).to(device)\n",
    ").to(device)"
   ]
  },
  {
   "cell_type": "code",
   "execution_count": 7,
   "id": "3f3a41d6-5896-46b6-8e25-3e3c91d3c946",
   "metadata": {},
   "outputs": [],
   "source": [
    "from checkpointing import load_checkpoint\n",
    "\n",
    "load_checkpoint(net, optimizer=None, checkpoint_filepath=checkpoint_filepath)"
   ]
  },
  {
   "cell_type": "code",
   "execution_count": 8,
   "id": "c271d4a8-4cc6-4d97-8a61-eb4e3e4b27d8",
   "metadata": {},
   "outputs": [],
   "source": [
    "net = net.eval()"
   ]
  },
  {
   "cell_type": "markdown",
   "id": "0a4d12a9-8963-4c4d-9ef2-81bb702b6d3e",
   "metadata": {},
   "source": [
    "## Generate Pure Noise Images"
   ]
  },
  {
   "cell_type": "code",
   "execution_count": 9,
   "id": "45827bc7-e325-4d98-a692-6a364bf91f1e",
   "metadata": {},
   "outputs": [],
   "source": [
    "from replace_with_pure_noise import sample_noise_images\n",
    "\n",
    "noise_images = sample_noise_images(\n",
    "    image_size=CONFIG.pure_noise_image_size,\n",
    "    mean=CONFIG.pure_noise_mean,\n",
    "    std=CONFIG.pure_noise_std, \n",
    "    count=CONFIG.pure_noise_count,\n",
    ")\n",
    "noise_images = noise_images.to(device)"
   ]
  },
  {
   "cell_type": "markdown",
   "id": "24d50b3f-016c-450b-8ed4-9aa811711eb5",
   "metadata": {},
   "source": [
    "## Load OOD Images from CIFAR100"
   ]
  },
  {
   "cell_type": "code",
   "execution_count": 10,
   "id": "7f2fcda6-2e93-457a-aa40-9b6b30b1e829",
   "metadata": {},
   "outputs": [
    {
     "name": "stdout",
     "output_type": "stream",
     "text": [
      "Files already downloaded and verified\n"
     ]
    }
   ],
   "source": [
    "from torch.utils.data import DataLoader, Subset\n",
    "from torchvision.datasets import CIFAR100\n",
    "from initializers import initialize_transforms\n",
    "\n",
    "DATA_ROOT = \"./data\"\n",
    "ood_transform = initialize_transforms(CONFIG.valid_transform_reprs)\n",
    "ood_dataset = CIFAR100(root=DATA_ROOT, train=False, transform=ood_transform, download=True)\n",
    "ood_subset_indices = np.random.choice(len(ood_dataset), CONFIG.ood_image_count)\n",
    "ood_subset = Subset(ood_dataset, ood_subset_indices)\n",
    "ood_loader = DataLoader(\n",
    "    ood_subset,\n",
    "    batch_size=CONFIG.batch_size,\n",
    "    num_workers=CONFIG.num_workers,\n",
    "    pin_memory=CONFIG.enable_pin_memory,\n",
    ")"
   ]
  },
  {
   "cell_type": "markdown",
   "id": "2815235b-54a7-4e04-b873-c651d5573385",
   "metadata": {},
   "source": [
    "## Generate Predictions"
   ]
  },
  {
   "cell_type": "code",
   "execution_count": 11,
   "id": "929c0824-fd95-4b5e-b460-5cdc0bc22cf1",
   "metadata": {},
   "outputs": [],
   "source": [
    "with torch.no_grad():\n",
    "    noise_images = normalizer(noise_images)\n",
    "    noise_image_outputs = net(noise_images)\n",
    "    _, noise_preds = torch.max(noise_image_outputs, 1)\n",
    "    noise_preds = noise_preds.cpu().tolist()"
   ]
  },
  {
   "cell_type": "code",
   "execution_count": 12,
   "id": "adfaba69-46c7-4aef-a2db-0855149504a0",
   "metadata": {},
   "outputs": [],
   "source": [
    "from collections import Counter\n",
    "\n",
    "noise_preds_counter = Counter(noise_preds)"
   ]
  },
  {
   "cell_type": "code",
   "execution_count": 13,
   "id": "d15e36e7-2e33-4235-9e8b-1c28c581b415",
   "metadata": {},
   "outputs": [
    {
     "data": {
      "image/png": "[encoded data removed]",
      "text/plain": [
       "<Figure size 640x480 with 1 Axes>"
      ]
     },
     "metadata": {},
     "output_type": "display_data"
    }
   ],
   "source": [
    "import matplotlib.pyplot as plt\n",
    "\n",
    "fig, ax = plt.subplots()\n",
    "bar = ax.bar(np.arange(CONFIG.num_classes), height=[noise_preds_counter[k] for k in np.arange(CONFIG.num_classes)])\n",
    "ax.set_xticks(np.arange(CONFIG.num_classes))\n",
    "ax.set_xlabel(\"Predicted class\")\n",
    "ax.set_ylabel(\"Count\")\n",
    "\n",
    "for rect in bar:\n",
    "    height = rect.get_height()\n",
    "    if height > 0:\n",
    "        ax.text(rect.get_x() + rect.get_width()/2, 1.05*height, str(height), ha=\"center\", va=\"bottom\")\n",
    "# ax.set_title(f\"Histogram for {CONFIG.checkpoint_filename}\")\n",
    "\n",
    "ax.set_ylim(0, 1000)\n",
    "fig.savefig(\"prior_histogram_noise.png\")\n",
    "fig.show()"
   ]
  },
  {
   "cell_type": "markdown",
   "id": "1a90d991-1b2c-408b-9993-352dabb0d905",
   "metadata": {},
   "source": [
    "## Generate Predictions for OOD"
   ]
  },
  {
   "cell_type": "code",
   "execution_count": 14,
   "id": "32f02b65-81a4-4cb3-8481-a344c55ad358",
   "metadata": {},
   "outputs": [],
   "source": [
    "with torch.no_grad():\n",
    "    ood_preds = []\n",
    "\n",
    "    for _, (inputs, _) in enumerate(ood_loader):\n",
    "        inputs = inputs.to(device)\n",
    "        inputs = normalizer(inputs)\n",
    "        outputs = net(inputs)\n",
    "        _, preds = torch.max(outputs, 1)\n",
    "        ood_preds.extend(preds.cpu().tolist())\n",
    "\n",
    "ood_preds = np.array(ood_preds)"
   ]
  },
  {
   "cell_type": "code",
   "execution_count": 15,
   "id": "5c70859b-eed2-43fd-b5ea-75934fb770f6",
   "metadata": {},
   "outputs": [],
   "source": [
    "from collections import Counter\n",
    "\n",
    "ood_preds_counter = Counter(ood_preds)"
   ]
  },
  {
   "cell_type": "code",
   "execution_count": 16,
   "id": "447ab725-d4db-441d-956c-38917e81a7a3",
   "metadata": {},
   "outputs": [
    {
     "data": {
      "image/png": "[encoded data removed]",
      "text/plain": [
       "<Figure size 640x480 with 1 Axes>"
      ]
     },
     "metadata": {},
     "output_type": "display_data"
    }
   ],
   "source": [
    "import matplotlib.pyplot as plt\n",
    "\n",
    "fig, ax = plt.subplots()\n",
    "bar = ax.bar(np.arange(CONFIG.num_classes), height=[ood_preds_counter[k] for k in np.arange(CONFIG.num_classes)])\n",
    "ax.set_xticks(np.arange(CONFIG.num_classes))\n",
    "ax.set_xlabel(\"Predicted class\")\n",
    "ax.set_ylabel(\"Count\")\n",
    "\n",
    "for rect in bar:\n",
    "    height = rect.get_height()\n",
    "    if height > 0:\n",
    "        ax.text(rect.get_x() + rect.get_width()/2, 1.05*height, str(height), ha=\"center\", va=\"bottom\")\n",
    "# ax.set_title(f\"Histogram for {CONFIG.checkpoint_filename}\")\n",
    "\n",
    "ax.set_ylim(0, 1000)\n",
    "fig.savefig(\"prior_histogram_ood.png\")\n",
    "fig.show()"
   ]
  }
 ],
 "metadata": {
  "kernelspec": {
   "display_name": "Python 3 (ipykernel)",
   "language": "python",
   "name": "python3"
  },
  "language_info": {
   "codemirror_mode": {
    "name": "ipython",
    "version": 3
   },
   "file_extension": ".py",
   "mimetype": "text/x-python",
   "name": "python",
   "nbconvert_exporter": "python",
   "pygments_lexer": "ipython3",
   "version": "3.9.16"
  }
 },
 "nbformat": 4,
 "nbformat_minor": 5
}
