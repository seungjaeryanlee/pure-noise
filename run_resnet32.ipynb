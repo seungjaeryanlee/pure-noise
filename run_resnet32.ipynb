{
 "cells": [
  {
   "cell_type": "markdown",
   "id": "2ebfde7f-cc95-4b17-8699-f1981bc7f2d8",
   "metadata": {},
   "source": [
    "## Dataset"
   ]
  },
  {
   "cell_type": "code",
   "execution_count": 1,
   "id": "76f85178-febf-457d-88ed-0707c6daa933",
   "metadata": {},
   "outputs": [],
   "source": [
    "import torch\n",
    "from torchvision import transforms\n",
    "\n",
    "# transforms.ToTensor() not needed as we use torchvision.io.read_image,\n",
    "# which gives torch.Tensor instead of PIL.Image\n",
    "# Data Augmentation transforms are mostly from Bazinga699/NCL\n",
    "# https://github.com/Bazinga699/NCL/blob/2bbf193/lib/dataset/cui_cifar.py#L64\n",
    "train_transform = transforms.Compose([\n",
    "    transforms.ConvertImageDtype(torch.float32),\n",
    "    transforms.RandomCrop(32, padding=4),\n",
    "    transforms.RandomHorizontalFlip(),\n",
    "    # NOTE(ryanlee): Check normalize values\n",
    "    transforms.Normalize([0.5071, 0.4867, 0.4408], [0.2675, 0.2565, 0.2761]),\n",
    "])\n",
    "valid_transform = transforms.Compose([\n",
    "    transforms.ConvertImageDtype(torch.float32),\n",
    "    transforms.Normalize([0.5071, 0.4867, 0.4408], [0.2675, 0.2565, 0.2761]),\n",
    "])\n",
    "test_transform = transforms.Compose([\n",
    "    transforms.ConvertImageDtype(torch.float32),\n",
    "    transforms.Normalize([0.5071, 0.4867, 0.4408], [0.2675, 0.2565, 0.2761]),\n",
    "])"
   ]
  },
  {
   "cell_type": "code",
   "execution_count": 2,
   "id": "7327d3eb-0e43-41ea-83fb-b8b3c5aaab9b",
   "metadata": {},
   "outputs": [],
   "source": [
    "from datasets.cifar10 import CIFAR10LTDataset\n",
    "\n",
    "train_json_filepath = \"data/json/cifar10_imbalance100/cifar10_imbalance100_train.json\"\n",
    "train_images_dirpath = \"data/json/cifar10_imbalance100/images/\"\n",
    "train_dataset = CIFAR10LTDataset(\n",
    "    json_filepath=train_json_filepath,\n",
    "    images_dirpath=train_images_dirpath,\n",
    "    transform=train_transform,\n",
    ")"
   ]
  },
  {
   "cell_type": "code",
   "execution_count": 3,
   "id": "a341372c-24b1-4609-8b17-8a5a69e36a21",
   "metadata": {},
   "outputs": [],
   "source": [
    "valid_json_filepath = \"data/json/cifar10_imbalance100/cifar10_imbalance100_valid.json\"\n",
    "valid_images_dirpath = \"data/json/cifar10_imbalance100/images/\"\n",
    "valid_dataset = CIFAR10LTDataset(\n",
    "    json_filepath=valid_json_filepath,\n",
    "    images_dirpath=valid_images_dirpath,\n",
    "    transform=valid_transform,\n",
    ")"
   ]
  },
  {
   "cell_type": "code",
   "execution_count": 4,
   "id": "28b9b5b7-f855-499d-ad8e-186a8ecc7c32",
   "metadata": {
    "tags": []
   },
   "outputs": [
    {
     "data": {
      "text/plain": [
       "(12406, 10000)"
      ]
     },
     "execution_count": 4,
     "metadata": {},
     "output_type": "execute_result"
    }
   ],
   "source": [
    "len(train_dataset), len(valid_dataset)"
   ]
  },
  {
   "cell_type": "markdown",
   "id": "90721c5d-890c-46d9-b915-14b68b5d0ac0",
   "metadata": {
    "tags": []
   },
   "source": [
    "## DataLoader"
   ]
  },
  {
   "cell_type": "code",
   "execution_count": 5,
   "id": "80a7c8e8-67f9-4a27-957d-562caa60e20b",
   "metadata": {},
   "outputs": [],
   "source": [
    "# DataLoader Hyperparameters\n",
    "DATALOADER__NUM_WORKERS = 8\n",
    "DATALOADER__BATCH_SIZE = 128"
   ]
  },
  {
   "cell_type": "code",
   "execution_count": 6,
   "id": "2caa89ec-0541-495b-a54c-abcb497b8c94",
   "metadata": {},
   "outputs": [],
   "source": [
    "# Compute weights\n",
    "import json\n",
    "\n",
    "import numpy as np\n",
    "\n",
    "labels = np.arange(10)\n",
    "with open(train_json_filepath, \"r\") as f:\n",
    "    json_data = json.load(f)\n",
    "sample_labels = [annotation[\"category_id\"] for annotation in json_data[\"annotations\"]]\n",
    "sample_labels_count = np.array([len(np.where(sample_labels == l)[0]) for l in labels])\n",
    "weights = 1. / sample_labels_count\n",
    "sample_weights = np.array([weights[l] for l in sample_labels])"
   ]
  },
  {
   "cell_type": "code",
   "execution_count": 7,
   "id": "f6b1d8f2-938f-4a8e-837f-4ad93cb349f8",
   "metadata": {},
   "outputs": [],
   "source": [
    "from torch.utils.data import DataLoader, WeightedRandomSampler\n",
    "\n",
    "train_sampler = WeightedRandomSampler(\n",
    "    weights=sample_weights,\n",
    "    num_samples=50000, # https://stackoverflow.com/a/67802529\n",
    "    # num_samples=len(train_dataset),\n",
    "    replacement=True,\n",
    ")\n",
    "train_loader = DataLoader(\n",
    "    train_dataset,\n",
    "    sampler=train_sampler,\n",
    "    # shuffle=True,\n",
    "    batch_size=DATALOADER__BATCH_SIZE,\n",
    "    num_workers=DATALOADER__NUM_WORKERS,\n",
    ")"
   ]
  },
  {
   "cell_type": "code",
   "execution_count": 8,
   "id": "d78094cb-2b72-474d-82b5-e55602dbdcef",
   "metadata": {},
   "outputs": [],
   "source": [
    "valid_loader = DataLoader(\n",
    "    valid_dataset,\n",
    "    batch_size=DATALOADER__BATCH_SIZE,\n",
    "    num_workers=DATALOADER__NUM_WORKERS,\n",
    ")"
   ]
  },
  {
   "cell_type": "markdown",
   "id": "70095393-2368-498d-973b-510b2d6544b2",
   "metadata": {},
   "source": [
    "## Setup Model"
   ]
  },
  {
   "cell_type": "code",
   "execution_count": 9,
   "id": "9033a75c-366a-4a19-a46d-dda544ebfba0",
   "metadata": {},
   "outputs": [],
   "source": [
    "# Model hyperparameters\n",
    "MODEL__NAME = \"resnet32__ldam_drw\"\n",
    "MODEL__RESNET_DEPTH = 32\n",
    "MODEL_PARAMS = {\n",
    "    \"MODEL__NAME\": MODEL__NAME,\n",
    "    \"MODEL__RESNET_DEPTH\": MODEL__RESNET_DEPTH,\n",
    "}"
   ]
  },
  {
   "cell_type": "code",
   "execution_count": 10,
   "id": "085dac53-8d8f-46d1-a4b6-9734955bd675",
   "metadata": {},
   "outputs": [],
   "source": [
    "from ldam_drw_models import resnet32\n",
    "\n",
    "net = resnet32()"
   ]
  },
  {
   "cell_type": "code",
   "execution_count": 11,
   "id": "336e2980-5635-45aa-b7b9-b0717ba9980b",
   "metadata": {},
   "outputs": [],
   "source": [
    "# from m2m_models import resnet32\n",
    "\n",
    "# net = resnet32()"
   ]
  },
  {
   "cell_type": "code",
   "execution_count": 12,
   "id": "28dfe7a3-bd22-4137-8902-b5e0f9da705c",
   "metadata": {},
   "outputs": [
    {
     "data": {
      "text/plain": [
       "464154"
      ]
     },
     "execution_count": 12,
     "metadata": {},
     "output_type": "execute_result"
    }
   ],
   "source": [
    "def count_parameters(model):\n",
    "    return sum(p.numel() for p in model.parameters() if p.requires_grad)\n",
    "\n",
    "count_parameters(net)"
   ]
  },
  {
   "cell_type": "code",
   "execution_count": 13,
   "id": "65645f7b-b973-4961-813e-29bf45e3ae54",
   "metadata": {},
   "outputs": [],
   "source": [
    "net = net.cuda()"
   ]
  },
  {
   "cell_type": "markdown",
   "id": "933d652c-7d35-4dc3-a251-01bc384ab01a",
   "metadata": {
    "tags": []
   },
   "source": [
    "## Wandb"
   ]
  },
  {
   "cell_type": "code",
   "execution_count": 14,
   "id": "3e9be72c-ff30-4d67-a96e-14358b4e285a",
   "metadata": {},
   "outputs": [
    {
     "name": "stderr",
     "output_type": "stream",
     "text": [
      "\u001b[34m\u001b[1mwandb\u001b[0m: Currently logged in as: \u001b[33mseungjaeryanlee\u001b[0m. Use \u001b[1m`wandb login --relogin`\u001b[0m to force relogin\n"
     ]
    },
    {
     "data": {
      "text/plain": [
       "True"
      ]
     },
     "execution_count": 14,
     "metadata": {},
     "output_type": "execute_result"
    }
   ],
   "source": [
    "import wandb\n",
    "wandb.login()"
   ]
  },
  {
   "cell_type": "markdown",
   "id": "5b1b88d5-2ed4-41f6-8b8e-873c22f46792",
   "metadata": {},
   "source": [
    "## Optimizer"
   ]
  },
  {
   "cell_type": "code",
   "execution_count": 15,
   "id": "6a25213a-69e1-482f-b1e2-72bca8901c84",
   "metadata": {},
   "outputs": [],
   "source": [
    "# Optimizer Hyperparameters\n",
    "OPTIM__LR = 0.1\n",
    "OPTIM__MOMENTUM = 0.9\n",
    "OPTIM__WEIGHT_DECAY = 2e-4"
   ]
  },
  {
   "cell_type": "code",
   "execution_count": 16,
   "id": "0dbad120-3151-403a-8214-47b2d61b76dc",
   "metadata": {},
   "outputs": [],
   "source": [
    "import torch.optim as optim\n",
    "\n",
    "optimizer = optim.SGD(\n",
    "    net.parameters(),\n",
    "    lr=OPTIM__LR,\n",
    "    momentum=OPTIM__MOMENTUM,\n",
    "    weight_decay=OPTIM__WEIGHT_DECAY,\n",
    ")"
   ]
  },
  {
   "cell_type": "code",
   "execution_count": 17,
   "id": "98fa911b-2f2b-4c30-b6f4-29d0fd44a412",
   "metadata": {},
   "outputs": [],
   "source": [
    "warmup_scheduler = optim.lr_scheduler.LinearLR(\n",
    "    optimizer,\n",
    "    # NOTE(ryanlee): 0 causes ZeroDivisionError\n",
    "    start_factor=torch.finfo().tiny,\n",
    "    end_factor=1,\n",
    "    total_iters=5,\n",
    ")\n",
    "multistep_scheduler = optim.lr_scheduler.MultiStepLR(\n",
    "    optimizer,\n",
    "    milestones=[160,180],\n",
    "    gamma=0.01,\n",
    ")\n",
    "scheduler = optim.lr_scheduler.ChainedScheduler([\n",
    "    warmup_scheduler,\n",
    "    multistep_scheduler,\n",
    "])"
   ]
  },
  {
   "cell_type": "markdown",
   "id": "37e2abc5-f9d9-4824-a314-720ac074bcb7",
   "metadata": {},
   "source": [
    "## Prepare Training"
   ]
  },
  {
   "cell_type": "code",
   "execution_count": 18,
   "id": "c51d16e3-af01-4420-a169-b3da0eb658ce",
   "metadata": {},
   "outputs": [],
   "source": [
    "# Training Hyperparameters\n",
    "N_EPOCH = 200\n",
    "SAVE_CKPT_EVERY_N_EPOCH = 10\n",
    "LOAD_CKPT = False\n",
    "LOAD_CKPT_FILEPATH = \"checkpoints/.pt\"\n",
    "LOAD_CKPT_EPOCH = 0"
   ]
  },
  {
   "cell_type": "code",
   "execution_count": 19,
   "id": "8a9b4b76-33a4-46bc-80c7-51ae0ce8434f",
   "metadata": {},
   "outputs": [],
   "source": [
    "import torch.nn as nn\n",
    "\n",
    "criterion = nn.CrossEntropyLoss(reduction=\"none\")"
   ]
  },
  {
   "cell_type": "markdown",
   "id": "c46daf24-7f83-43bf-a1c1-34260e641a26",
   "metadata": {},
   "source": [
    "## Training Loop"
   ]
  },
  {
   "cell_type": "code",
   "execution_count": 20,
   "id": "9c11808c-257b-4b48-b251-a3d8b21bb284",
   "metadata": {},
   "outputs": [],
   "source": [
    "def save_checkpoint(\n",
    "    model,\n",
    "    optimizer,\n",
    "    checkpoint_filepath: str,\n",
    "):\n",
    "    torch.save({\n",
    "        'model_state_dict': model.state_dict(),\n",
    "        'optimizer_state_dict': optimizer.state_dict(),\n",
    "    }, checkpoint_filepath)\n",
    "\n",
    "\n",
    "def load_checkpoint(\n",
    "    model,\n",
    "    optimizer,\n",
    "    checkpoint_filepath: str,\n",
    "):\n",
    "    checkpoint = torch.load(checkpoint_filepath)\n",
    "    model.load_state_dict(checkpoint['model_state_dict'])\n",
    "    optimizer.load_state_dict(checkpoint['optimizer_state_dict'])"
   ]
  },
  {
   "cell_type": "code",
   "execution_count": 21,
   "id": "eb007299-60dc-42cc-810d-2b4aa877b65b",
   "metadata": {},
   "outputs": [],
   "source": [
    "if LOAD_CKPT:\n",
    "    load_checkpoint(net, optimizer, LOAD_CKPT_FILEPATH)"
   ]
  },
  {
   "cell_type": "code",
   "execution_count": 22,
   "id": "9a6a4cb4-fd90-47c9-a06f-4c467229ce1a",
   "metadata": {},
   "outputs": [
    {
     "name": "stderr",
     "output_type": "stream",
     "text": [
      "\u001b[34m\u001b[1mwandb\u001b[0m: Currently logged in as: \u001b[33mseungjaeryanlee\u001b[0m (\u001b[33mbrianryan\u001b[0m). Use \u001b[1m`wandb login --relogin`\u001b[0m to force relogin\n"
     ]
    },
    {
     "data": {
      "text/html": [
       "wandb version 0.13.9 is available!  To upgrade, please run:\n",
       " $ pip install wandb --upgrade"
      ],
      "text/plain": [
       "<IPython.core.display.HTML object>"
      ]
     },
     "metadata": {},
     "output_type": "display_data"
    },
    {
     "data": {
      "text/html": [
       "Tracking run with wandb version 0.13.8"
      ],
      "text/plain": [
       "<IPython.core.display.HTML object>"
      ]
     },
     "metadata": {},
     "output_type": "display_data"
    },
    {
     "data": {
      "text/html": [
       "Run data is saved locally in <code>/workspace/pure-noise/wandb/run-20230113_030558-vjo8yfn6</code>"
      ],
      "text/plain": [
       "<IPython.core.display.HTML object>"
      ]
     },
     "metadata": {},
     "output_type": "display_data"
    },
    {
     "data": {
      "text/html": [
       "Syncing run <strong><a href=\"https://wandb.ai/brianryan/pure-noise/runs/vjo8yfn6\" target=\"_blank\">faithful-serenity-163</a></strong> to <a href=\"https://wandb.ai/brianryan/pure-noise\" target=\"_blank\">Weights & Biases</a> (<a href=\"https://wandb.me/run\" target=\"_blank\">docs</a>)<br/>"
      ],
      "text/plain": [
       "<IPython.core.display.HTML object>"
      ]
     },
     "metadata": {},
     "output_type": "display_data"
    },
    {
     "data": {
      "text/html": [
       " View project at <a href=\"https://wandb.ai/brianryan/pure-noise\" target=\"_blank\">https://wandb.ai/brianryan/pure-noise</a>"
      ],
      "text/plain": [
       "<IPython.core.display.HTML object>"
      ]
     },
     "metadata": {},
     "output_type": "display_data"
    },
    {
     "data": {
      "text/html": [
       " View run at <a href=\"https://wandb.ai/brianryan/pure-noise/runs/vjo8yfn6\" target=\"_blank\">https://wandb.ai/brianryan/pure-noise/runs/vjo8yfn6</a>"
      ],
      "text/plain": [
       "<IPython.core.display.HTML object>"
      ]
     },
     "metadata": {},
     "output_type": "display_data"
    }
   ],
   "source": [
    "wandb_run = wandb.init(\n",
    "    project=\"pure-noise\",\n",
    "    entity=\"brianryan\",\n",
    ")\n",
    "\n",
    "wandb.config.update({\n",
    "    # Data\n",
    "    \"dataloader__num_workers\": DATALOADER__NUM_WORKERS,\n",
    "    \"dataloader__batch_size\": DATALOADER__BATCH_SIZE,\n",
    "    # Optimizer\n",
    "    \"optim__lr\": OPTIM__LR,\n",
    "    \"optim__momentum\": OPTIM__MOMENTUM,\n",
    "    \"optim__weight_decay\": OPTIM__WEIGHT_DECAY,\n",
    "    # Model\n",
    "    **MODEL_PARAMS,\n",
    "    # Training\n",
    "    \"n_epoch\": N_EPOCH,\n",
    "    \"save_ckpt_every_n_epoch\": SAVE_CKPT_EVERY_N_EPOCH,\n",
    "    \"load_ckpt\": LOAD_CKPT,\n",
    "    \"load_ckpt_filepath\": LOAD_CKPT_FILEPATH,\n",
    "    \"load_ckpt_epoch\": LOAD_CKPT_EPOCH,\n",
    "})"
   ]
  },
  {
   "cell_type": "code",
   "execution_count": 23,
   "id": "f9e2de5c-f746-476c-98cd-ab7bc9e1ce53",
   "metadata": {},
   "outputs": [
    {
     "data": {
      "text/html": [
       "Waiting for W&B process to finish... <strong style=\"color:green\">(success).</strong>"
      ],
      "text/plain": [
       "<IPython.core.display.HTML object>"
      ]
     },
     "metadata": {},
     "output_type": "display_data"
    },
    {
     "data": {
      "application/vnd.jupyter.widget-view+json": {
       "model_id": "774048db82b349548c8020d364ed24d7",
       "version_major": 2,
       "version_minor": 0
      },
      "text/plain": [
       "VBox(children=(Label(value='74.701 MB of 74.701 MB uploaded (0.000 MB deduped)\\r'), FloatProgress(value=1.0, m…"
      ]
     },
     "metadata": {},
     "output_type": "display_data"
    },
    {
     "data": {
      "text/html": [
       "<style>\n",
       "    table.wandb td:nth-child(1) { padding: 0 10px; text-align: left ; width: auto;} td:nth-child(2) {text-align: left ; width: 100%}\n",
       "    .wandb-row { display: flex; flex-direction: row; flex-wrap: wrap; justify-content: flex-start; width: 100% }\n",
       "    .wandb-col { display: flex; flex-direction: column; flex-basis: 100%; flex: 1; padding: 10px; }\n",
       "    </style>\n",
       "<div class=\"wandb-row\"><div class=\"wandb-col\"><h3>Run history:</h3><br/><table class=\"wandb\"><tr><td>epoch_i</td><td>▁▁▁▁▂▂▂▂▂▃▃▃▃▃▃▄▄▄▄▄▅▅▅▅▅▅▆▆▆▆▆▇▇▇▇▇▇███</td></tr><tr><td>lr</td><td>▂███████████████████████████████▁▁▁▁▁▁▁▁</td></tr><tr><td>train_acc</td><td>▁▆▇▇████████████████████████████████████</td></tr><tr><td>train_acc__class_0</td><td>▁▆▇▇▇▇▇▇▇███████████████████████████████</td></tr><tr><td>train_acc__class_1</td><td>▁▇▇█████████████████████████████████████</td></tr><tr><td>train_acc__class_2</td><td>▁▄▆▇▇▇▇▇▇▇▇▇▇▇▇▇████████████████████████</td></tr><tr><td>train_acc__class_3</td><td>▁▄▆▇▇▇▇▇▇▇▇▇████████████████████████████</td></tr><tr><td>train_acc__class_4</td><td>▁▅▇▇████████████████████████████████████</td></tr><tr><td>train_acc__class_5</td><td>▁▅▇█████████████████████████████████████</td></tr><tr><td>train_acc__class_6</td><td>▁▆██████████████████████████████████████</td></tr><tr><td>train_acc__class_7</td><td>▁▇██████████████████████████████████████</td></tr><tr><td>train_acc__class_8</td><td>▁▇██████████████████████████████████████</td></tr><tr><td>train_acc__class_9</td><td>▁███████████████████████████████████████</td></tr><tr><td>train_loss</td><td>█▃▂▂▁▁▁▁▁▁▁▁▁▁▁▁▁▁▁▁▁▁▁▁▁▁▁▁▁▁▁▁▁▁▁▁▁▁▁▁</td></tr><tr><td>train_loss__class_0</td><td>█▄▂▂▂▂▂▂▂▂▂▂▂▂▂▁▁▂▁▁▁▁▁▁▁▁▁▁▁▁▁▁▁▁▁▁▁▁▁▁</td></tr><tr><td>train_loss__class_1</td><td>█▂▁▁▁▁▁▁▁▁▁▁▁▁▁▁▁▁▁▁▁▁▁▁▁▁▁▁▁▁▁▁▁▁▁▁▁▁▁▁</td></tr><tr><td>train_loss__class_2</td><td>█▅▃▂▂▂▂▂▂▂▂▂▂▂▂▂▂▂▂▂▂▂▂▂▁▁▁▁▁▂▁▁▁▁▁▁▁▁▁▁</td></tr><tr><td>train_loss__class_3</td><td>█▅▃▂▂▂▂▂▂▂▂▂▂▂▂▂▁▁▁▁▂▁▁▁▁▁▁▁▁▁▁▁▁▁▁▁▁▁▁▁</td></tr><tr><td>train_loss__class_4</td><td>█▄▂▁▁▁▁▁▁▁▁▁▁▁▁▁▁▁▁▁▁▁▁▁▁▁▁▁▁▁▁▁▁▁▁▁▁▁▁▁</td></tr><tr><td>train_loss__class_5</td><td>█▄▂▂▁▁▁▁▁▁▁▁▁▁▁▁▁▁▁▁▁▁▁▁▁▁▁▁▁▁▁▁▁▁▁▁▁▁▁▁</td></tr><tr><td>train_loss__class_6</td><td>█▃▁▁▁▁▁▁▁▁▁▁▁▁▁▁▁▁▁▁▁▁▁▁▁▁▁▁▁▁▁▁▁▁▁▁▁▁▁▁</td></tr><tr><td>train_loss__class_7</td><td>█▂▁▁▁▁▁▁▁▁▁▁▁▁▁▁▁▁▁▁▁▁▁▁▁▁▁▁▁▁▁▁▁▁▁▁▁▁▁▁</td></tr><tr><td>train_loss__class_8</td><td>█▂▁▁▁▁▁▁▁▁▁▁▁▁▁▁▁▁▁▁▁▁▁▁▁▁▁▁▁▁▁▁▁▁▁▁▁▁▁▁</td></tr><tr><td>train_loss__class_9</td><td>█▁▁▁▁▁▁▁▁▁▁▁▁▁▁▁▁▁▁▁▁▁▁▁▁▁▁▁▁▁▁▁▁▁▁▁▁▁▁▁</td></tr><tr><td>valid_acc</td><td>▁▅▇▇▇▆▆▆▇█▇▇▇▇▆▇▆▇▇█▇▇█▇▇▇█▇██▇▇█████▇██</td></tr><tr><td>valid_acc__class_0</td><td>▁▆▆▇▇▇▇█▇▇▇█▇▇█▇█▇▇▇▆██▇█▇▇▇▇▇▇▇████████</td></tr><tr><td>valid_acc__class_1</td><td>▁▇▇▆▇▇▇▇██▇███▇█▇██████▇███▇█▇██████████</td></tr><tr><td>valid_acc__class_2</td><td>▁▁▆▇█▅▇▇█▆█▆▆▆▆█▄▄▇█▆▇▆█▆▆▇▇▆▇▇▆████████</td></tr><tr><td>valid_acc__class_3</td><td>▁▅█▆▆█▆▇▅▇▇▆▆▆▇▅▇▇▆▆▇▅▇▆▇▆██▆▆▇▇▇▇▇▇▇▇▇▇</td></tr><tr><td>valid_acc__class_4</td><td>▁▄▄▇▇▄▆▆▆▆▅▆▆▆▅▅▇█▆▇▇▇▇▇▇█▆▆▇▆▄▆▇▇▇▇▇▇▇▇</td></tr><tr><td>valid_acc__class_5</td><td>▂▆▅▃▃▃▆▁▆▄▁▅▇▇▃█▂▃█▇▇▃▅▁▆▄▃▃▆▆▅▂▅▅▅▅▅▅▅▅</td></tr><tr><td>valid_acc__class_6</td><td>▁▅▇▇▅▄▄▆▇█▇█▇▅▆▇▅▄▆▇▅▅▇▇▆▅▇▆█▆▆▆▆▆▆▇▆▆▆▆</td></tr><tr><td>valid_acc__class_7</td><td>▁▇▅▅▅▅▅▄▆▄▄▅▅▅▄▇▅▇▄▅▅▆▇▅▅▅▅▅▆█▇█▅▆▅▅▅▅▅▅</td></tr><tr><td>valid_acc__class_8</td><td>▇▂▄▅▄▄▃▅▅▆▄▄▄▆▁▁▂▆▄▃▄▃▂▃▆▇▆▅█▅▃▄▄▄▄▄▃▃▄▄</td></tr><tr><td>valid_acc__class_9</td><td>▁▂▆▄▃▅▃▁▅▇█▇▆▅▅▁▄▇▃▅▇▃▇▄▂▄▅█▆▅▄▅▄▃▃▃▄▄▄▃</td></tr><tr><td>valid_loss</td><td>▅▅▄▄▆▆▆█▃▃▄▂▃▃█▇▇▃▄▃▃█▂▅▄▄▃▄▁▂▄▄▄▄▅▄▄▅▄▅</td></tr><tr><td>valid_loss__class_0</td><td>█▃▅▃▃▂▂▁▃▃▂▂▂▂▁▃▁▃▃▂▄▁▂▂▁▂▂▂▂▂▂▂▁▁▁▁▁▁▁▁</td></tr><tr><td>valid_loss__class_1</td><td>█▂▂▃▁▂▂▁▁▁▂▁▁▁▂▁▃▁▁▁▁▁▁▂▁▁▁▂▁▁▁▁▁▁▁▁▁▁▁▁</td></tr><tr><td>valid_loss__class_2</td><td>▇█▄▂▁▄▃▂▁▄▁▃▅▄▃▁▆█▃▁▅▂▄▁▄▄▃▃▃▃▂▃▂▂▂▂▂▂▂▂</td></tr><tr><td>valid_loss__class_3</td><td>▅▃▁▄▅▁▄▃▆▃▂▅▄▄▃█▃▃▄▅▃▆▃▄▃▄▁▂▄▄▃▄▂▃▂▃▂▂▃▃</td></tr><tr><td>valid_loss__class_4</td><td>▆▅█▂▃█▅▄▄▄▆▄▄▃▆▆▃▁▄▂▂▃▃▃▃▂▄▄▂▄█▅▂▂▂▂▂▂▂▂</td></tr><tr><td>valid_loss__class_5</td><td>▃▁▃▅▆▅▂█▃▅▆▃▂▂▆▁▇▅▁▂▂▆▃▇▃▅▅▇▂▂▃▇▄▄▄▄▄▄▄▄</td></tr><tr><td>valid_loss__class_6</td><td>▃▄▂▃▅██▄▂▁▃▁▃▆▄▃▆▇▃▃▅▇▂▂▃▆▃▅▁▃▄▄▄▄▄▃▄▄▄▄</td></tr><tr><td>valid_loss__class_7</td><td>▄▂▆▄▅▅▄█▅██▅▅▅▇▃▆▃▆▅▆▄▂▅▆▆▅▆▄▁▂▁▅▅▅▅▅▅▅▅</td></tr><tr><td>valid_loss__class_8</td><td>▁▄▄▃▄▄▅▃▃▂▃▃▄▂█▇▆▂▃▅▄▆▆▅▂▁▂▃▁▃▄▃▅▄▅▅▅▅▅▅</td></tr><tr><td>valid_loss__class_9</td><td>▂▇▂▅▆▃▅█▃▂▁▂▃▃▄█▄▂▄▃▂▆▂▄▆▄▃▁▃▃▅▃▅▅▅▅▅▅▅▆</td></tr></table><br/></div><div class=\"wandb-col\"><h3>Run summary:</h3><br/><table class=\"wandb\"><tr><td>epoch_i</td><td>199</td></tr><tr><td>lr</td><td>1e-05</td></tr><tr><td>train_acc</td><td>0.99816</td></tr><tr><td>train_acc__class_0</td><td>0.98985</td></tr><tr><td>train_acc__class_1</td><td>0.99758</td></tr><tr><td>train_acc__class_2</td><td>0.99619</td></tr><tr><td>train_acc__class_3</td><td>0.99842</td></tr><tr><td>train_acc__class_4</td><td>0.99979</td></tr><tr><td>train_acc__class_5</td><td>0.9998</td></tr><tr><td>train_acc__class_6</td><td>1.0</td></tr><tr><td>train_acc__class_7</td><td>1.0</td></tr><tr><td>train_acc__class_8</td><td>1.0</td></tr><tr><td>train_acc__class_9</td><td>1.0</td></tr><tr><td>train_loss</td><td>0.00893</td></tr><tr><td>train_loss__class_0</td><td>0.03301</td></tr><tr><td>train_loss__class_1</td><td>0.01054</td></tr><tr><td>train_loss__class_2</td><td>0.02016</td></tr><tr><td>train_loss__class_3</td><td>0.01282</td></tr><tr><td>train_loss__class_4</td><td>0.00434</td></tr><tr><td>train_loss__class_5</td><td>0.00377</td></tr><tr><td>train_loss__class_6</td><td>0.00185</td></tr><tr><td>train_loss__class_7</td><td>0.001</td></tr><tr><td>train_loss__class_8</td><td>0.00106</td></tr><tr><td>train_loss__class_9</td><td>0.00067</td></tr><tr><td>valid_acc</td><td>0.6859</td></tr><tr><td>valid_acc__class_0</td><td>0.96</td></tr><tr><td>valid_acc__class_1</td><td>0.981</td></tr><tr><td>valid_acc__class_2</td><td>0.859</td></tr><tr><td>valid_acc__class_3</td><td>0.749</td></tr><tr><td>valid_acc__class_4</td><td>0.8</td></tr><tr><td>valid_acc__class_5</td><td>0.572</td></tr><tr><td>valid_acc__class_6</td><td>0.641</td></tr><tr><td>valid_acc__class_7</td><td>0.535</td></tr><tr><td>valid_acc__class_8</td><td>0.495</td></tr><tr><td>valid_acc__class_9</td><td>0.267</td></tr><tr><td>valid_loss</td><td>1.91544</td></tr><tr><td>valid_loss__class_0</td><td>0.13248</td></tr><tr><td>valid_loss__class_1</td><td>0.06186</td></tr><tr><td>valid_loss__class_2</td><td>0.60342</td></tr><tr><td>valid_loss__class_3</td><td>1.24325</td></tr><tr><td>valid_loss__class_4</td><td>0.9669</td></tr><tr><td>valid_loss__class_5</td><td>2.60639</td></tr><tr><td>valid_loss__class_6</td><td>2.09332</td></tr><tr><td>valid_loss__class_7</td><td>2.78683</td></tr><tr><td>valid_loss__class_8</td><td>3.37943</td></tr><tr><td>valid_loss__class_9</td><td>5.28048</td></tr></table><br/></div></div>"
      ],
      "text/plain": [
       "<IPython.core.display.HTML object>"
      ]
     },
     "metadata": {},
     "output_type": "display_data"
    },
    {
     "data": {
      "text/html": [
       " View run <strong style=\"color:#cdcd00\">faithful-serenity-163</strong> at: <a href=\"https://wandb.ai/brianryan/pure-noise/runs/vjo8yfn6\" target=\"_blank\">https://wandb.ai/brianryan/pure-noise/runs/vjo8yfn6</a><br/>Synced 4 W&B file(s), 0 media file(s), 0 artifact file(s) and 21 other file(s)"
      ],
      "text/plain": [
       "<IPython.core.display.HTML object>"
      ]
     },
     "metadata": {},
     "output_type": "display_data"
    },
    {
     "data": {
      "text/html": [
       "Find logs at: <code>./wandb/run-20230113_030558-vjo8yfn6/logs</code>"
      ],
      "text/plain": [
       "<IPython.core.display.HTML object>"
      ]
     },
     "metadata": {},
     "output_type": "display_data"
    }
   ],
   "source": [
    "from collections import defaultdict\n",
    "import os\n",
    "\n",
    "import torch\n",
    "\n",
    "start_epoch_i, end_epoch_i = 0, N_EPOCH\n",
    "if LOAD_CKPT:\n",
    "    start_epoch_i += LOAD_CKPT_EPOCH\n",
    "    end_epoch_i += LOAD_CKPT_EPOCH\n",
    "for epoch_i in range(start_epoch_i, end_epoch_i):\n",
    "    # Save checkpoint\n",
    "    if epoch_i % SAVE_CKPT_EVERY_N_EPOCH == 0:\n",
    "        checkpoint_filepath = f\"checkpoints/{wandb.run.name}__epoch_{epoch_i}.pt\"\n",
    "        os.makedirs(\"checkpoints/\", exist_ok=True)\n",
    "        save_checkpoint(net, optimizer, checkpoint_filepath)\n",
    "        wandb.save(checkpoint_filepath)\n",
    "\n",
    "    ## Training Phase\n",
    "    net.train()\n",
    "    train_losses = []\n",
    "    train_labels = []\n",
    "    train_preds = []\n",
    "    for minibatch_i, (inputs, labels) in enumerate(train_loader):\n",
    "        inputs = inputs.float().cuda()\n",
    "        labels = labels.cuda()\n",
    "\n",
    "        optimizer.zero_grad()\n",
    "        outputs = net(inputs)\n",
    "        losses = criterion(outputs, labels)\n",
    "        losses.mean().backward()\n",
    "        optimizer.step()\n",
    "\n",
    "        preds = torch.argmax(outputs, dim=1)\n",
    "        train_losses.extend(losses.cpu().detach().tolist())\n",
    "        train_labels.extend(labels.cpu().detach().tolist())\n",
    "        train_preds.extend(preds.cpu().detach().tolist())\n",
    "\n",
    "    train_losses = np.array(train_losses)\n",
    "    train_labels = np.array(train_labels)\n",
    "    train_preds = np.array(train_preds)\n",
    "\n",
    "    # Filter losses by classes\n",
    "    train_loss_per_class_dict = {\n",
    "        f\"train_loss__class_{class_}\": train_losses[np.where(train_labels == class_)[0]].mean()\n",
    "        for class_ in np.arange(10)\n",
    "    }\n",
    "    # Filter preds by classes for accuracy\n",
    "    train_acc_per_class_dict = {\n",
    "        f\"train_acc__class_{class_}\": (train_preds == train_labels)[np.where(train_labels == class_)[0]].mean()\n",
    "        for class_ in np.arange(10)\n",
    "    }\n",
    "\n",
    "    ## Validation Phase\n",
    "    net.eval()\n",
    "    with torch.no_grad():\n",
    "        # Save all losses and labels for each example\n",
    "        valid_losses = []\n",
    "        valid_labels = []\n",
    "        valid_preds = []\n",
    "        for minibatch_i, (inputs, labels) in enumerate(valid_loader):\n",
    "            inputs = inputs.float().cuda()\n",
    "            labels = labels.cuda()\n",
    "\n",
    "            outputs = net(inputs)\n",
    "            losses = criterion(outputs, labels)\n",
    "            preds = torch.argmax(outputs, dim=1)\n",
    "\n",
    "            valid_losses.extend(losses.cpu().detach().tolist())\n",
    "            valid_labels.extend(labels.cpu().detach().tolist())\n",
    "            valid_preds.extend(preds.cpu().detach().tolist())\n",
    "\n",
    "    valid_losses = np.array(valid_losses)\n",
    "    valid_labels = np.array(valid_labels)\n",
    "    valid_preds = np.array(valid_preds)\n",
    "\n",
    "    # Filter losses by classes\n",
    "    valid_loss_per_class_dict = {\n",
    "        f\"valid_loss__class_{class_}\": valid_losses[np.where(valid_labels == class_)[0]].mean()\n",
    "        for class_ in np.arange(10)\n",
    "    }\n",
    "    # Filter preds by classes for accuracy\n",
    "    valid_acc_per_class_dict = {\n",
    "        f\"valid_acc__class_{class_}\": (valid_preds == valid_labels)[np.where(valid_labels == class_)[0]].mean()\n",
    "        for class_ in np.arange(10)\n",
    "    }\n",
    "\n",
    "    # Logging\n",
    "    wandb.log({\n",
    "        \"epoch_i\": epoch_i,\n",
    "        \"train_loss\": np.mean(train_losses),\n",
    "        \"train_acc\": np.mean(train_preds == train_labels),\n",
    "        **train_loss_per_class_dict,\n",
    "        **train_acc_per_class_dict,\n",
    "        \"valid_loss\": np.mean(valid_losses),\n",
    "        \"valid_acc\": np.mean(valid_preds == valid_labels),\n",
    "        **valid_loss_per_class_dict,\n",
    "        **valid_acc_per_class_dict,\n",
    "        \"lr\": scheduler.get_last_lr()[0],\n",
    "    })\n",
    "    scheduler.step()\n",
    "\n",
    "# Save the last epoch\n",
    "checkpoint_filepath = f\"checkpoints/{wandb.run.name}__epoch_{end_epoch_i}.pt\"\n",
    "save_checkpoint(net, optimizer, checkpoint_filepath)\n",
    "wandb.save(checkpoint_filepath)\n",
    "\n",
    "# Finish wandb run\n",
    "wandb_run.finish()"
   ]
  },
  {
   "cell_type": "code",
   "execution_count": null,
   "id": "3ddfc317-6533-4825-ba95-1d411c959884",
   "metadata": {},
   "outputs": [],
   "source": []
  }
 ],
 "metadata": {
  "kernelspec": {
   "display_name": "Python 3 (ipykernel)",
   "language": "python",
   "name": "python3"
  },
  "language_info": {
   "codemirror_mode": {
    "name": "ipython",
    "version": 3
   },
   "file_extension": ".py",
   "mimetype": "text/x-python",
   "name": "python",
   "nbconvert_exporter": "python",
   "pygments_lexer": "ipython3",
   "version": "3.9.16"
  }
 },
 "nbformat": 4,
 "nbformat_minor": 5
}
